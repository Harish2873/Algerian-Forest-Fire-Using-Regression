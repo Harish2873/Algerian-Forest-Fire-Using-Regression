{
  "cells": [
    {
      "cell_type": "markdown",
      "metadata": {
        "id": "JavE8ALrlLTd"
      },
      "source": [
        "# **Algerian Forest Fires Dataset**\n",
        "### Data Set Information:\n",
        "\n",
        "The dataset includes 244 instances that regroup a data of two regions of Algeria,namely the Bejaia region located in the northeast of Algeria and the Sidi Bel-abbes region located in the northwest of Algeria.\n",
        "\n",
        "\n",
        "122 instances for each region.\n",
        "\n",
        "\n",
        "The period from June 2012 to September 2012. The dataset includes 11 attribues and 1 output attribue (class) The 244 instances have been classified into fire(138 classes) and not fire (106 classes) classes.\n",
        "\n",
        "Attribute Information:\n",
        "\n",
        "1. Date : (DD/MM/YYYY) Day, month ('june' to 'september'), year (2012) Weather data observations\n",
        "2. Temp : temperature noon (temperature max) in Celsius degrees: 22 to 42\n",
        "3. RH : Relative Humidity in %: 21 to 90\n",
        "4. Ws :Wind speed in km/h: 6 to 29\n",
        "5. Rain: total day in mm: 0 to 16.8 FWI Components\n",
        "6. Fine Fuel Moisture Code (FFMC) index from the FWI system: 28.6 to 92.5\n",
        "7. Duff Moisture Code (DMC) index from the FWI system: 1.1 to 65.9\n",
        "8. Drought Code (DC) index from the FWI system: 7 to 220.4\n",
        "9. Initial Spread Index (ISI) index from the FWI system: 0 to 18.5\n",
        "10. Buildup Index (BUI) index from the FWI system: 1.1 to 68\n",
        "11. Fire Weather Index (FWI) Index: 0 to 31.1\n",
        "12. Classes: two classes, namely Fire and not Fire"
      ]
    },
    {
      "cell_type": "code",
      "execution_count": 1,
      "metadata": {
        "id": "UqDCsAOtRgs9"
      },
      "outputs": [],
      "source": [
        "import pandas as pd\n",
        "import numpy as np\n",
        "import matplotlib.pyplot as plt\n",
        "import seaborn as sns\n",
        "%matplotlib inline"
      ]
    },
    {
      "cell_type": "code",
      "execution_count": 2,
      "metadata": {
        "colab": {
          "base_uri": "https://localhost:8080/",
          "height": 206
        },
        "id": "B0mrR9jdZNgR",
        "outputId": "4ba3fa33-1e14-42e2-fcc9-f5071417a96f"
      },
      "outputs": [
        {
          "data": {
            "text/html": [
              "<div>\n",
              "<style scoped>\n",
              "    .dataframe tbody tr th:only-of-type {\n",
              "        vertical-align: middle;\n",
              "    }\n",
              "\n",
              "    .dataframe tbody tr th {\n",
              "        vertical-align: top;\n",
              "    }\n",
              "\n",
              "    .dataframe thead th {\n",
              "        text-align: right;\n",
              "    }\n",
              "</style>\n",
              "<table border=\"1\" class=\"dataframe\">\n",
              "  <thead>\n",
              "    <tr style=\"text-align: right;\">\n",
              "      <th></th>\n",
              "      <th>day</th>\n",
              "      <th>month</th>\n",
              "      <th>year</th>\n",
              "      <th>Temperature</th>\n",
              "      <th>RH</th>\n",
              "      <th>Ws</th>\n",
              "      <th>Rain</th>\n",
              "      <th>FFMC</th>\n",
              "      <th>DMC</th>\n",
              "      <th>DC</th>\n",
              "      <th>ISI</th>\n",
              "      <th>BUI</th>\n",
              "      <th>FWI</th>\n",
              "      <th>Classes</th>\n",
              "    </tr>\n",
              "  </thead>\n",
              "  <tbody>\n",
              "    <tr>\n",
              "      <th>0</th>\n",
              "      <td>01</td>\n",
              "      <td>06</td>\n",
              "      <td>2012</td>\n",
              "      <td>29</td>\n",
              "      <td>57</td>\n",
              "      <td>18</td>\n",
              "      <td>0</td>\n",
              "      <td>65.7</td>\n",
              "      <td>3.4</td>\n",
              "      <td>7.6</td>\n",
              "      <td>1.3</td>\n",
              "      <td>3.4</td>\n",
              "      <td>0.5</td>\n",
              "      <td>not fire</td>\n",
              "    </tr>\n",
              "    <tr>\n",
              "      <th>1</th>\n",
              "      <td>02</td>\n",
              "      <td>06</td>\n",
              "      <td>2012</td>\n",
              "      <td>29</td>\n",
              "      <td>61</td>\n",
              "      <td>13</td>\n",
              "      <td>1.3</td>\n",
              "      <td>64.4</td>\n",
              "      <td>4.1</td>\n",
              "      <td>7.6</td>\n",
              "      <td>1</td>\n",
              "      <td>3.9</td>\n",
              "      <td>0.4</td>\n",
              "      <td>not fire</td>\n",
              "    </tr>\n",
              "    <tr>\n",
              "      <th>2</th>\n",
              "      <td>03</td>\n",
              "      <td>06</td>\n",
              "      <td>2012</td>\n",
              "      <td>26</td>\n",
              "      <td>82</td>\n",
              "      <td>22</td>\n",
              "      <td>13.1</td>\n",
              "      <td>47.1</td>\n",
              "      <td>2.5</td>\n",
              "      <td>7.1</td>\n",
              "      <td>0.3</td>\n",
              "      <td>2.7</td>\n",
              "      <td>0.1</td>\n",
              "      <td>not fire</td>\n",
              "    </tr>\n",
              "    <tr>\n",
              "      <th>3</th>\n",
              "      <td>04</td>\n",
              "      <td>06</td>\n",
              "      <td>2012</td>\n",
              "      <td>25</td>\n",
              "      <td>89</td>\n",
              "      <td>13</td>\n",
              "      <td>2.5</td>\n",
              "      <td>28.6</td>\n",
              "      <td>1.3</td>\n",
              "      <td>6.9</td>\n",
              "      <td>0</td>\n",
              "      <td>1.7</td>\n",
              "      <td>0</td>\n",
              "      <td>not fire</td>\n",
              "    </tr>\n",
              "    <tr>\n",
              "      <th>4</th>\n",
              "      <td>05</td>\n",
              "      <td>06</td>\n",
              "      <td>2012</td>\n",
              "      <td>27</td>\n",
              "      <td>77</td>\n",
              "      <td>16</td>\n",
              "      <td>0</td>\n",
              "      <td>64.8</td>\n",
              "      <td>3</td>\n",
              "      <td>14.2</td>\n",
              "      <td>1.2</td>\n",
              "      <td>3.9</td>\n",
              "      <td>0.5</td>\n",
              "      <td>not fire</td>\n",
              "    </tr>\n",
              "  </tbody>\n",
              "</table>\n",
              "</div>"
            ],
            "text/plain": [
              "  day month  year Temperature  RH  Ws Rain   FFMC  DMC    DC  ISI  BUI  FWI  \\\n",
              "0  01    06  2012          29  57  18     0  65.7  3.4   7.6  1.3  3.4  0.5   \n",
              "1  02    06  2012          29  61  13   1.3  64.4  4.1   7.6    1  3.9  0.4   \n",
              "2  03    06  2012          26  82  22  13.1  47.1  2.5   7.1  0.3  2.7  0.1   \n",
              "3  04    06  2012          25  89  13   2.5  28.6  1.3   6.9    0  1.7    0   \n",
              "4  05    06  2012          27  77  16     0  64.8    3  14.2  1.2  3.9  0.5   \n",
              "\n",
              "     Classes    \n",
              "0  not fire     \n",
              "1  not fire     \n",
              "2  not fire     \n",
              "3  not fire     \n",
              "4  not fire     "
            ]
          },
          "execution_count": 2,
          "metadata": {},
          "output_type": "execute_result"
        }
      ],
      "source": [
        "df = pd.read_csv('Algerian_forest_fires_dataset_UPDATE.csv',header=1)\n",
        "df.head()"
      ]
    },
    {
      "cell_type": "code",
      "execution_count": 3,
      "metadata": {
        "colab": {
          "base_uri": "https://localhost:8080/"
        },
        "id": "iD_G62CRBSis",
        "outputId": "ada413d9-70f9-4181-f75b-a2212f6c1f22"
      },
      "outputs": [
        {
          "name": "stdout",
          "output_type": "stream",
          "text": [
            "<class 'pandas.core.frame.DataFrame'>\n",
            "RangeIndex: 246 entries, 0 to 245\n",
            "Data columns (total 14 columns):\n",
            " #   Column       Non-Null Count  Dtype \n",
            "---  ------       --------------  ----- \n",
            " 0   day          246 non-null    object\n",
            " 1   month        245 non-null    object\n",
            " 2   year         245 non-null    object\n",
            " 3   Temperature  245 non-null    object\n",
            " 4    RH          245 non-null    object\n",
            " 5    Ws          245 non-null    object\n",
            " 6   Rain         245 non-null    object\n",
            " 7   FFMC         245 non-null    object\n",
            " 8   DMC          245 non-null    object\n",
            " 9   DC           245 non-null    object\n",
            " 10  ISI          245 non-null    object\n",
            " 11  BUI          245 non-null    object\n",
            " 12  FWI          245 non-null    object\n",
            " 13  Classes      244 non-null    object\n",
            "dtypes: object(14)\n",
            "memory usage: 27.0+ KB\n"
          ]
        }
      ],
      "source": [
        "df.info()"
      ]
    },
    {
      "cell_type": "code",
      "execution_count": 4,
      "metadata": {
        "colab": {
          "base_uri": "https://localhost:8080/",
          "height": 523
        },
        "id": "a4SKgUebC_Ki",
        "outputId": "60d49d85-3622-41e1-9fbd-4dfcff60693e"
      },
      "outputs": [
        {
          "data": {
            "text/plain": [
              "day            0\n",
              "month          1\n",
              "year           1\n",
              "Temperature    1\n",
              " RH            1\n",
              " Ws            1\n",
              "Rain           1\n",
              "FFMC           1\n",
              "DMC            1\n",
              "DC             1\n",
              "ISI            1\n",
              "BUI            1\n",
              "FWI            1\n",
              "Classes        2\n",
              "dtype: int64"
            ]
          },
          "execution_count": 4,
          "metadata": {},
          "output_type": "execute_result"
        }
      ],
      "source": [
        "df.isnull().sum()"
      ]
    },
    {
      "cell_type": "markdown",
      "metadata": {
        "id": "RTcgokJql8Dq"
      },
      "source": [
        "### **Data Cleaning**"
      ]
    },
    {
      "cell_type": "code",
      "execution_count": 5,
      "metadata": {
        "colab": {
          "base_uri": "https://localhost:8080/",
          "height": 147
        },
        "id": "mp86eEBNLcaG",
        "outputId": "aae757c3-07de-46c8-ef42-e36a3b999e33"
      },
      "outputs": [
        {
          "data": {
            "text/html": [
              "<div>\n",
              "<style scoped>\n",
              "    .dataframe tbody tr th:only-of-type {\n",
              "        vertical-align: middle;\n",
              "    }\n",
              "\n",
              "    .dataframe tbody tr th {\n",
              "        vertical-align: top;\n",
              "    }\n",
              "\n",
              "    .dataframe thead th {\n",
              "        text-align: right;\n",
              "    }\n",
              "</style>\n",
              "<table border=\"1\" class=\"dataframe\">\n",
              "  <thead>\n",
              "    <tr style=\"text-align: right;\">\n",
              "      <th></th>\n",
              "      <th>day</th>\n",
              "      <th>month</th>\n",
              "      <th>year</th>\n",
              "      <th>Temperature</th>\n",
              "      <th>RH</th>\n",
              "      <th>Ws</th>\n",
              "      <th>Rain</th>\n",
              "      <th>FFMC</th>\n",
              "      <th>DMC</th>\n",
              "      <th>DC</th>\n",
              "      <th>ISI</th>\n",
              "      <th>BUI</th>\n",
              "      <th>FWI</th>\n",
              "      <th>Classes</th>\n",
              "    </tr>\n",
              "  </thead>\n",
              "  <tbody>\n",
              "    <tr>\n",
              "      <th>122</th>\n",
              "      <td>Sidi-Bel Abbes Region Dataset</td>\n",
              "      <td>NaN</td>\n",
              "      <td>NaN</td>\n",
              "      <td>NaN</td>\n",
              "      <td>NaN</td>\n",
              "      <td>NaN</td>\n",
              "      <td>NaN</td>\n",
              "      <td>NaN</td>\n",
              "      <td>NaN</td>\n",
              "      <td>NaN</td>\n",
              "      <td>NaN</td>\n",
              "      <td>NaN</td>\n",
              "      <td>NaN</td>\n",
              "      <td>NaN</td>\n",
              "    </tr>\n",
              "    <tr>\n",
              "      <th>167</th>\n",
              "      <td>14</td>\n",
              "      <td>07</td>\n",
              "      <td>2012</td>\n",
              "      <td>37</td>\n",
              "      <td>37</td>\n",
              "      <td>18</td>\n",
              "      <td>0.2</td>\n",
              "      <td>88.9</td>\n",
              "      <td>12.9</td>\n",
              "      <td>14.6 9</td>\n",
              "      <td>12.5</td>\n",
              "      <td>10.4</td>\n",
              "      <td>fire</td>\n",
              "      <td>NaN</td>\n",
              "    </tr>\n",
              "  </tbody>\n",
              "</table>\n",
              "</div>"
            ],
            "text/plain": [
              "                               day month  year Temperature   RH   Ws Rain   \\\n",
              "122  Sidi-Bel Abbes Region Dataset   NaN   NaN         NaN  NaN  NaN   NaN   \n",
              "167                             14    07  2012          37   37   18   0.2   \n",
              "\n",
              "     FFMC   DMC      DC   ISI   BUI      FWI Classes    \n",
              "122   NaN   NaN     NaN   NaN   NaN      NaN       NaN  \n",
              "167  88.9  12.9  14.6 9  12.5  10.4  fire          NaN  "
            ]
          },
          "execution_count": 5,
          "metadata": {},
          "output_type": "execute_result"
        }
      ],
      "source": [
        "# Missing values\n",
        "df[df.isnull().any(axis=1)]"
      ]
    },
    {
      "cell_type": "code",
      "execution_count": 6,
      "metadata": {
        "id": "J36TQZKcNFfS"
      },
      "outputs": [],
      "source": [
        "df.loc[:122,'Region']=0\n",
        "df.loc[122:,'Region']=1"
      ]
    },
    {
      "cell_type": "code",
      "execution_count": 7,
      "metadata": {
        "colab": {
          "base_uri": "https://localhost:8080/"
        },
        "id": "zhTOtFNpPHXN",
        "outputId": "85760dfe-64e9-451f-bd42-e4edb32ee335"
      },
      "outputs": [
        {
          "name": "stdout",
          "output_type": "stream",
          "text": [
            "<class 'pandas.core.frame.DataFrame'>\n",
            "RangeIndex: 246 entries, 0 to 245\n",
            "Data columns (total 15 columns):\n",
            " #   Column       Non-Null Count  Dtype  \n",
            "---  ------       --------------  -----  \n",
            " 0   day          246 non-null    object \n",
            " 1   month        245 non-null    object \n",
            " 2   year         245 non-null    object \n",
            " 3   Temperature  245 non-null    object \n",
            " 4    RH          245 non-null    object \n",
            " 5    Ws          245 non-null    object \n",
            " 6   Rain         245 non-null    object \n",
            " 7   FFMC         245 non-null    object \n",
            " 8   DMC          245 non-null    object \n",
            " 9   DC           245 non-null    object \n",
            " 10  ISI          245 non-null    object \n",
            " 11  BUI          245 non-null    object \n",
            " 12  FWI          245 non-null    object \n",
            " 13  Classes      244 non-null    object \n",
            " 14  Region       246 non-null    float64\n",
            "dtypes: float64(1), object(14)\n",
            "memory usage: 29.0+ KB\n"
          ]
        }
      ],
      "source": [
        "df.info()"
      ]
    },
    {
      "cell_type": "code",
      "execution_count": 8,
      "metadata": {
        "id": "S9z8cgM1O7uN"
      },
      "outputs": [],
      "source": [
        "df['Region']=df['Region'].astype(int)"
      ]
    },
    {
      "cell_type": "code",
      "execution_count": 9,
      "metadata": {
        "colab": {
          "base_uri": "https://localhost:8080/"
        },
        "id": "PMoe-CN3PCfP",
        "outputId": "125defce-f29c-4c3f-d661-f776a7779476"
      },
      "outputs": [
        {
          "name": "stdout",
          "output_type": "stream",
          "text": [
            "<class 'pandas.core.frame.DataFrame'>\n",
            "RangeIndex: 246 entries, 0 to 245\n",
            "Data columns (total 15 columns):\n",
            " #   Column       Non-Null Count  Dtype \n",
            "---  ------       --------------  ----- \n",
            " 0   day          246 non-null    object\n",
            " 1   month        245 non-null    object\n",
            " 2   year         245 non-null    object\n",
            " 3   Temperature  245 non-null    object\n",
            " 4    RH          245 non-null    object\n",
            " 5    Ws          245 non-null    object\n",
            " 6   Rain         245 non-null    object\n",
            " 7   FFMC         245 non-null    object\n",
            " 8   DMC          245 non-null    object\n",
            " 9   DC           245 non-null    object\n",
            " 10  ISI          245 non-null    object\n",
            " 11  BUI          245 non-null    object\n",
            " 12  FWI          245 non-null    object\n",
            " 13  Classes      244 non-null    object\n",
            " 14  Region       246 non-null    int64 \n",
            "dtypes: int64(1), object(14)\n",
            "memory usage: 29.0+ KB\n"
          ]
        }
      ],
      "source": [
        "df.info()"
      ]
    },
    {
      "cell_type": "code",
      "execution_count": 10,
      "metadata": {
        "id": "M2zLB0RUOycd"
      },
      "outputs": [],
      "source": [
        "# Removing missing values\n",
        "df=df.drop(122).reset_index(drop=True)"
      ]
    },
    {
      "cell_type": "code",
      "execution_count": 11,
      "metadata": {
        "colab": {
          "base_uri": "https://localhost:8080/",
          "height": 81
        },
        "id": "_C90L3303n8X",
        "outputId": "03cdb9d9-a2b4-4469-ce52-741588599f0f"
      },
      "outputs": [
        {
          "data": {
            "text/html": [
              "<div>\n",
              "<style scoped>\n",
              "    .dataframe tbody tr th:only-of-type {\n",
              "        vertical-align: middle;\n",
              "    }\n",
              "\n",
              "    .dataframe tbody tr th {\n",
              "        vertical-align: top;\n",
              "    }\n",
              "\n",
              "    .dataframe thead th {\n",
              "        text-align: right;\n",
              "    }\n",
              "</style>\n",
              "<table border=\"1\" class=\"dataframe\">\n",
              "  <thead>\n",
              "    <tr style=\"text-align: right;\">\n",
              "      <th></th>\n",
              "      <th>day</th>\n",
              "      <th>month</th>\n",
              "      <th>year</th>\n",
              "      <th>Temperature</th>\n",
              "      <th>RH</th>\n",
              "      <th>Ws</th>\n",
              "      <th>Rain</th>\n",
              "      <th>FFMC</th>\n",
              "      <th>DMC</th>\n",
              "      <th>DC</th>\n",
              "      <th>ISI</th>\n",
              "      <th>BUI</th>\n",
              "      <th>FWI</th>\n",
              "      <th>Classes</th>\n",
              "      <th>Region</th>\n",
              "    </tr>\n",
              "  </thead>\n",
              "  <tbody>\n",
              "    <tr>\n",
              "      <th>122</th>\n",
              "      <td>day</td>\n",
              "      <td>month</td>\n",
              "      <td>year</td>\n",
              "      <td>Temperature</td>\n",
              "      <td>RH</td>\n",
              "      <td>Ws</td>\n",
              "      <td>Rain</td>\n",
              "      <td>FFMC</td>\n",
              "      <td>DMC</td>\n",
              "      <td>DC</td>\n",
              "      <td>ISI</td>\n",
              "      <td>BUI</td>\n",
              "      <td>FWI</td>\n",
              "      <td>Classes</td>\n",
              "      <td>1</td>\n",
              "    </tr>\n",
              "  </tbody>\n",
              "</table>\n",
              "</div>"
            ],
            "text/plain": [
              "     day  month  year  Temperature   RH   Ws  Rain   FFMC  DMC  DC  ISI  BUI  \\\n",
              "122  day  month  year  Temperature   RH   Ws  Rain   FFMC  DMC  DC  ISI  BUI   \n",
              "\n",
              "     FWI  Classes    Region  \n",
              "122  FWI  Classes         1  "
            ]
          },
          "execution_count": 11,
          "metadata": {},
          "output_type": "execute_result"
        }
      ],
      "source": [
        "df.iloc[[122]]"
      ]
    },
    {
      "cell_type": "code",
      "execution_count": 12,
      "metadata": {
        "id": "sydhEar841jf"
      },
      "outputs": [],
      "source": [
        "# Removing the 122nd row\n",
        "df=df.drop(122).reset_index(drop=True)"
      ]
    },
    {
      "cell_type": "code",
      "execution_count": 13,
      "metadata": {
        "colab": {
          "base_uri": "https://localhost:8080/",
          "height": 81
        },
        "id": "vKcwaZ264_Z_",
        "outputId": "ec9aacd7-1860-4ebd-bffb-d9db302e14d3"
      },
      "outputs": [
        {
          "data": {
            "text/html": [
              "<div>\n",
              "<style scoped>\n",
              "    .dataframe tbody tr th:only-of-type {\n",
              "        vertical-align: middle;\n",
              "    }\n",
              "\n",
              "    .dataframe tbody tr th {\n",
              "        vertical-align: top;\n",
              "    }\n",
              "\n",
              "    .dataframe thead th {\n",
              "        text-align: right;\n",
              "    }\n",
              "</style>\n",
              "<table border=\"1\" class=\"dataframe\">\n",
              "  <thead>\n",
              "    <tr style=\"text-align: right;\">\n",
              "      <th></th>\n",
              "      <th>day</th>\n",
              "      <th>month</th>\n",
              "      <th>year</th>\n",
              "      <th>Temperature</th>\n",
              "      <th>RH</th>\n",
              "      <th>Ws</th>\n",
              "      <th>Rain</th>\n",
              "      <th>FFMC</th>\n",
              "      <th>DMC</th>\n",
              "      <th>DC</th>\n",
              "      <th>ISI</th>\n",
              "      <th>BUI</th>\n",
              "      <th>FWI</th>\n",
              "      <th>Classes</th>\n",
              "      <th>Region</th>\n",
              "    </tr>\n",
              "  </thead>\n",
              "  <tbody>\n",
              "    <tr>\n",
              "      <th>122</th>\n",
              "      <td>01</td>\n",
              "      <td>06</td>\n",
              "      <td>2012</td>\n",
              "      <td>32</td>\n",
              "      <td>71</td>\n",
              "      <td>12</td>\n",
              "      <td>0.7</td>\n",
              "      <td>57.1</td>\n",
              "      <td>2.5</td>\n",
              "      <td>8.2</td>\n",
              "      <td>0.6</td>\n",
              "      <td>2.8</td>\n",
              "      <td>0.2</td>\n",
              "      <td>not fire</td>\n",
              "      <td>1</td>\n",
              "    </tr>\n",
              "  </tbody>\n",
              "</table>\n",
              "</div>"
            ],
            "text/plain": [
              "    day month  year Temperature  RH  Ws Rain   FFMC  DMC   DC  ISI  BUI  FWI  \\\n",
              "122  01    06  2012          32  71  12   0.7  57.1  2.5  8.2  0.6  2.8  0.2   \n",
              "\n",
              "       Classes    Region  \n",
              "122  not fire          1  "
            ]
          },
          "execution_count": 13,
          "metadata": {},
          "output_type": "execute_result"
        }
      ],
      "source": [
        "df.iloc[[122]]"
      ]
    },
    {
      "cell_type": "code",
      "execution_count": 14,
      "metadata": {
        "colab": {
          "base_uri": "https://localhost:8080/",
          "height": 554
        },
        "id": "N9zkDNvA3eF0",
        "outputId": "33972bd4-ba66-4aea-e9a5-707886af8e78"
      },
      "outputs": [
        {
          "data": {
            "text/plain": [
              "day            0\n",
              "month          0\n",
              "year           0\n",
              "Temperature    0\n",
              " RH            0\n",
              " Ws            0\n",
              "Rain           0\n",
              "FFMC           0\n",
              "DMC            0\n",
              "DC             0\n",
              "ISI            0\n",
              "BUI            0\n",
              "FWI            0\n",
              "Classes        1\n",
              "Region         0\n",
              "dtype: int64"
            ]
          },
          "execution_count": 14,
          "metadata": {},
          "output_type": "execute_result"
        }
      ],
      "source": [
        "df.isnull().sum()"
      ]
    },
    {
      "cell_type": "code",
      "execution_count": 15,
      "metadata": {
        "colab": {
          "base_uri": "https://localhost:8080/",
          "height": 81
        },
        "id": "pl2_eaRZ2Aa1",
        "outputId": "64b4ae92-9a1f-40dc-f321-ca53df9134d0"
      },
      "outputs": [
        {
          "data": {
            "text/html": [
              "<div>\n",
              "<style scoped>\n",
              "    .dataframe tbody tr th:only-of-type {\n",
              "        vertical-align: middle;\n",
              "    }\n",
              "\n",
              "    .dataframe tbody tr th {\n",
              "        vertical-align: top;\n",
              "    }\n",
              "\n",
              "    .dataframe thead th {\n",
              "        text-align: right;\n",
              "    }\n",
              "</style>\n",
              "<table border=\"1\" class=\"dataframe\">\n",
              "  <thead>\n",
              "    <tr style=\"text-align: right;\">\n",
              "      <th></th>\n",
              "      <th>day</th>\n",
              "      <th>month</th>\n",
              "      <th>year</th>\n",
              "      <th>Temperature</th>\n",
              "      <th>RH</th>\n",
              "      <th>Ws</th>\n",
              "      <th>Rain</th>\n",
              "      <th>FFMC</th>\n",
              "      <th>DMC</th>\n",
              "      <th>DC</th>\n",
              "      <th>ISI</th>\n",
              "      <th>BUI</th>\n",
              "      <th>FWI</th>\n",
              "      <th>Classes</th>\n",
              "      <th>Region</th>\n",
              "    </tr>\n",
              "  </thead>\n",
              "  <tbody>\n",
              "    <tr>\n",
              "      <th>165</th>\n",
              "      <td>14</td>\n",
              "      <td>07</td>\n",
              "      <td>2012</td>\n",
              "      <td>37</td>\n",
              "      <td>37</td>\n",
              "      <td>18</td>\n",
              "      <td>0.2</td>\n",
              "      <td>88.9</td>\n",
              "      <td>12.9</td>\n",
              "      <td>14.6 9</td>\n",
              "      <td>12.5</td>\n",
              "      <td>10.4</td>\n",
              "      <td>fire</td>\n",
              "      <td>NaN</td>\n",
              "      <td>1</td>\n",
              "    </tr>\n",
              "  </tbody>\n",
              "</table>\n",
              "</div>"
            ],
            "text/plain": [
              "    day month  year Temperature  RH  Ws Rain   FFMC   DMC      DC   ISI   BUI  \\\n",
              "165  14    07  2012          37  37  18   0.2  88.9  12.9  14.6 9  12.5  10.4   \n",
              "\n",
              "         FWI Classes    Region  \n",
              "165  fire          NaN       1  "
            ]
          },
          "execution_count": 15,
          "metadata": {},
          "output_type": "execute_result"
        }
      ],
      "source": [
        "df[df.isnull().any(axis=1)]"
      ]
    },
    {
      "cell_type": "code",
      "execution_count": 16,
      "metadata": {
        "id": "XRHAuYll36Sg"
      },
      "outputs": [],
      "source": [
        "df=df.dropna().reset_index(drop=True)"
      ]
    },
    {
      "cell_type": "code",
      "execution_count": 17,
      "metadata": {
        "colab": {
          "base_uri": "https://localhost:8080/"
        },
        "id": "anG_sdqc4T7V",
        "outputId": "94e0ffd8-229a-4848-9f9e-a860f7efa774"
      },
      "outputs": [
        {
          "data": {
            "text/plain": [
              "[day            0\n",
              " month          0\n",
              " year           0\n",
              " Temperature    0\n",
              "  RH            0\n",
              "  Ws            0\n",
              " Rain           0\n",
              " FFMC           0\n",
              " DMC            0\n",
              " DC             0\n",
              " ISI            0\n",
              " BUI            0\n",
              " FWI            0\n",
              " Classes        0\n",
              " Region         0\n",
              " dtype: int64]"
            ]
          },
          "execution_count": 17,
          "metadata": {},
          "output_type": "execute_result"
        }
      ],
      "source": [
        "[df.isnull().sum()]"
      ]
    },
    {
      "cell_type": "code",
      "execution_count": 18,
      "metadata": {
        "colab": {
          "base_uri": "https://localhost:8080/"
        },
        "id": "RJ7mIZKt3TB-",
        "outputId": "8e26deab-5de9-48b3-af7d-ea1d5956b9c7"
      },
      "outputs": [
        {
          "data": {
            "text/plain": [
              "Index(['day', 'month', 'year', 'Temperature', ' RH', ' Ws', 'Rain ', 'FFMC',\n",
              "       'DMC', 'DC', 'ISI', 'BUI', 'FWI', 'Classes  ', 'Region'],\n",
              "      dtype='object')"
            ]
          },
          "execution_count": 18,
          "metadata": {},
          "output_type": "execute_result"
        }
      ],
      "source": [
        "df.columns"
      ]
    },
    {
      "cell_type": "code",
      "execution_count": 19,
      "metadata": {
        "id": "qLw1DXgi4bUO"
      },
      "outputs": [],
      "source": [
        "# Removing the spaces in columns names\n",
        "df.columns=df.columns.str.strip()"
      ]
    },
    {
      "cell_type": "code",
      "execution_count": 20,
      "metadata": {
        "colab": {
          "base_uri": "https://localhost:8080/"
        },
        "id": "6clbXGAd5ULM",
        "outputId": "4f3288df-3759-4955-c491-477d28d82c62"
      },
      "outputs": [
        {
          "data": {
            "text/plain": [
              "Index(['day', 'month', 'year', 'Temperature', 'RH', 'Ws', 'Rain', 'FFMC',\n",
              "       'DMC', 'DC', 'ISI', 'BUI', 'FWI', 'Classes', 'Region'],\n",
              "      dtype='object')"
            ]
          },
          "execution_count": 20,
          "metadata": {},
          "output_type": "execute_result"
        }
      ],
      "source": [
        "df.columns"
      ]
    },
    {
      "cell_type": "code",
      "execution_count": 21,
      "metadata": {
        "colab": {
          "base_uri": "https://localhost:8080/"
        },
        "id": "1B93IawfJ6Wt",
        "outputId": "c9e4a3c4-0c7f-4d8a-b089-dd9367b96e22"
      },
      "outputs": [
        {
          "name": "stdout",
          "output_type": "stream",
          "text": [
            "<class 'pandas.core.frame.DataFrame'>\n",
            "RangeIndex: 243 entries, 0 to 242\n",
            "Data columns (total 15 columns):\n",
            " #   Column       Non-Null Count  Dtype \n",
            "---  ------       --------------  ----- \n",
            " 0   day          243 non-null    object\n",
            " 1   month        243 non-null    object\n",
            " 2   year         243 non-null    object\n",
            " 3   Temperature  243 non-null    object\n",
            " 4   RH           243 non-null    object\n",
            " 5   Ws           243 non-null    object\n",
            " 6   Rain         243 non-null    object\n",
            " 7   FFMC         243 non-null    object\n",
            " 8   DMC          243 non-null    object\n",
            " 9   DC           243 non-null    object\n",
            " 10  ISI          243 non-null    object\n",
            " 11  BUI          243 non-null    object\n",
            " 12  FWI          243 non-null    object\n",
            " 13  Classes      243 non-null    object\n",
            " 14  Region       243 non-null    int64 \n",
            "dtypes: int64(1), object(14)\n",
            "memory usage: 28.6+ KB\n"
          ]
        }
      ],
      "source": [
        "df.info()"
      ]
    },
    {
      "cell_type": "code",
      "execution_count": 22,
      "metadata": {
        "colab": {
          "base_uri": "https://localhost:8080/",
          "height": 206
        },
        "id": "vFq7VMLdJY-n",
        "outputId": "9158025f-ade2-422b-cc0f-84dde1e22619"
      },
      "outputs": [
        {
          "data": {
            "text/html": [
              "<div>\n",
              "<style scoped>\n",
              "    .dataframe tbody tr th:only-of-type {\n",
              "        vertical-align: middle;\n",
              "    }\n",
              "\n",
              "    .dataframe tbody tr th {\n",
              "        vertical-align: top;\n",
              "    }\n",
              "\n",
              "    .dataframe thead th {\n",
              "        text-align: right;\n",
              "    }\n",
              "</style>\n",
              "<table border=\"1\" class=\"dataframe\">\n",
              "  <thead>\n",
              "    <tr style=\"text-align: right;\">\n",
              "      <th></th>\n",
              "      <th>day</th>\n",
              "      <th>month</th>\n",
              "      <th>year</th>\n",
              "      <th>Temperature</th>\n",
              "      <th>RH</th>\n",
              "      <th>Ws</th>\n",
              "      <th>Rain</th>\n",
              "      <th>FFMC</th>\n",
              "      <th>DMC</th>\n",
              "      <th>DC</th>\n",
              "      <th>ISI</th>\n",
              "      <th>BUI</th>\n",
              "      <th>FWI</th>\n",
              "      <th>Classes</th>\n",
              "      <th>Region</th>\n",
              "    </tr>\n",
              "  </thead>\n",
              "  <tbody>\n",
              "    <tr>\n",
              "      <th>0</th>\n",
              "      <td>01</td>\n",
              "      <td>06</td>\n",
              "      <td>2012</td>\n",
              "      <td>29</td>\n",
              "      <td>57</td>\n",
              "      <td>18</td>\n",
              "      <td>0</td>\n",
              "      <td>65.7</td>\n",
              "      <td>3.4</td>\n",
              "      <td>7.6</td>\n",
              "      <td>1.3</td>\n",
              "      <td>3.4</td>\n",
              "      <td>0.5</td>\n",
              "      <td>not fire</td>\n",
              "      <td>0</td>\n",
              "    </tr>\n",
              "    <tr>\n",
              "      <th>1</th>\n",
              "      <td>02</td>\n",
              "      <td>06</td>\n",
              "      <td>2012</td>\n",
              "      <td>29</td>\n",
              "      <td>61</td>\n",
              "      <td>13</td>\n",
              "      <td>1.3</td>\n",
              "      <td>64.4</td>\n",
              "      <td>4.1</td>\n",
              "      <td>7.6</td>\n",
              "      <td>1</td>\n",
              "      <td>3.9</td>\n",
              "      <td>0.4</td>\n",
              "      <td>not fire</td>\n",
              "      <td>0</td>\n",
              "    </tr>\n",
              "    <tr>\n",
              "      <th>2</th>\n",
              "      <td>03</td>\n",
              "      <td>06</td>\n",
              "      <td>2012</td>\n",
              "      <td>26</td>\n",
              "      <td>82</td>\n",
              "      <td>22</td>\n",
              "      <td>13.1</td>\n",
              "      <td>47.1</td>\n",
              "      <td>2.5</td>\n",
              "      <td>7.1</td>\n",
              "      <td>0.3</td>\n",
              "      <td>2.7</td>\n",
              "      <td>0.1</td>\n",
              "      <td>not fire</td>\n",
              "      <td>0</td>\n",
              "    </tr>\n",
              "    <tr>\n",
              "      <th>3</th>\n",
              "      <td>04</td>\n",
              "      <td>06</td>\n",
              "      <td>2012</td>\n",
              "      <td>25</td>\n",
              "      <td>89</td>\n",
              "      <td>13</td>\n",
              "      <td>2.5</td>\n",
              "      <td>28.6</td>\n",
              "      <td>1.3</td>\n",
              "      <td>6.9</td>\n",
              "      <td>0</td>\n",
              "      <td>1.7</td>\n",
              "      <td>0</td>\n",
              "      <td>not fire</td>\n",
              "      <td>0</td>\n",
              "    </tr>\n",
              "    <tr>\n",
              "      <th>4</th>\n",
              "      <td>05</td>\n",
              "      <td>06</td>\n",
              "      <td>2012</td>\n",
              "      <td>27</td>\n",
              "      <td>77</td>\n",
              "      <td>16</td>\n",
              "      <td>0</td>\n",
              "      <td>64.8</td>\n",
              "      <td>3</td>\n",
              "      <td>14.2</td>\n",
              "      <td>1.2</td>\n",
              "      <td>3.9</td>\n",
              "      <td>0.5</td>\n",
              "      <td>not fire</td>\n",
              "      <td>0</td>\n",
              "    </tr>\n",
              "  </tbody>\n",
              "</table>\n",
              "</div>"
            ],
            "text/plain": [
              "  day month  year Temperature  RH  Ws  Rain  FFMC  DMC    DC  ISI  BUI  FWI  \\\n",
              "0  01    06  2012          29  57  18     0  65.7  3.4   7.6  1.3  3.4  0.5   \n",
              "1  02    06  2012          29  61  13   1.3  64.4  4.1   7.6    1  3.9  0.4   \n",
              "2  03    06  2012          26  82  22  13.1  47.1  2.5   7.1  0.3  2.7  0.1   \n",
              "3  04    06  2012          25  89  13   2.5  28.6  1.3   6.9    0  1.7    0   \n",
              "4  05    06  2012          27  77  16     0  64.8    3  14.2  1.2  3.9  0.5   \n",
              "\n",
              "       Classes  Region  \n",
              "0  not fire          0  \n",
              "1  not fire          0  \n",
              "2  not fire          0  \n",
              "3  not fire          0  \n",
              "4  not fire          0  "
            ]
          },
          "execution_count": 22,
          "metadata": {},
          "output_type": "execute_result"
        }
      ],
      "source": [
        "df.head()"
      ]
    },
    {
      "cell_type": "markdown",
      "metadata": {
        "id": "xuw3fanUmSjx"
      },
      "source": [
        "#### **Changes the require columns as a integer data type**"
      ]
    },
    {
      "cell_type": "code",
      "execution_count": 23,
      "metadata": {
        "id": "wzwqGfRBJh1P"
      },
      "outputs": [],
      "source": [
        "df[['day','month','year','Temperature','RH','Ws']]=df[['day','month','year','Temperature','RH','Ws']].astype(int)"
      ]
    },
    {
      "cell_type": "code",
      "execution_count": 24,
      "metadata": {
        "colab": {
          "base_uri": "https://localhost:8080/"
        },
        "id": "pVGWzkpOKejK",
        "outputId": "965e2395-ad24-4043-ca41-96fc41ded8df"
      },
      "outputs": [
        {
          "name": "stdout",
          "output_type": "stream",
          "text": [
            "<class 'pandas.core.frame.DataFrame'>\n",
            "RangeIndex: 243 entries, 0 to 242\n",
            "Data columns (total 15 columns):\n",
            " #   Column       Non-Null Count  Dtype \n",
            "---  ------       --------------  ----- \n",
            " 0   day          243 non-null    int64 \n",
            " 1   month        243 non-null    int64 \n",
            " 2   year         243 non-null    int64 \n",
            " 3   Temperature  243 non-null    int64 \n",
            " 4   RH           243 non-null    int64 \n",
            " 5   Ws           243 non-null    int64 \n",
            " 6   Rain         243 non-null    object\n",
            " 7   FFMC         243 non-null    object\n",
            " 8   DMC          243 non-null    object\n",
            " 9   DC           243 non-null    object\n",
            " 10  ISI          243 non-null    object\n",
            " 11  BUI          243 non-null    object\n",
            " 12  FWI          243 non-null    object\n",
            " 13  Classes      243 non-null    object\n",
            " 14  Region       243 non-null    int64 \n",
            "dtypes: int64(7), object(8)\n",
            "memory usage: 28.6+ KB\n"
          ]
        }
      ],
      "source": [
        "df.info()"
      ]
    },
    {
      "cell_type": "markdown",
      "metadata": {
        "id": "R5fie6-im0WP"
      },
      "source": [
        "#### **Changing the other columns to float data type**"
      ]
    },
    {
      "cell_type": "code",
      "execution_count": 25,
      "metadata": {
        "id": "xMOEx1RqKim9"
      },
      "outputs": [],
      "source": [
        "df[['Rain','FFMC','DMC','DC','ISI','BUI','FWI']]=df[['Rain','FFMC','DMC','DC','ISI','BUI','FWI']].astype(float)"
      ]
    },
    {
      "cell_type": "code",
      "execution_count": 26,
      "metadata": {
        "colab": {
          "base_uri": "https://localhost:8080/"
        },
        "id": "pfnRcUWeK5ZR",
        "outputId": "17458401-82f7-4b1e-892c-d14fd481fa54"
      },
      "outputs": [
        {
          "name": "stdout",
          "output_type": "stream",
          "text": [
            "<class 'pandas.core.frame.DataFrame'>\n",
            "RangeIndex: 243 entries, 0 to 242\n",
            "Data columns (total 15 columns):\n",
            " #   Column       Non-Null Count  Dtype  \n",
            "---  ------       --------------  -----  \n",
            " 0   day          243 non-null    int64  \n",
            " 1   month        243 non-null    int64  \n",
            " 2   year         243 non-null    int64  \n",
            " 3   Temperature  243 non-null    int64  \n",
            " 4   RH           243 non-null    int64  \n",
            " 5   Ws           243 non-null    int64  \n",
            " 6   Rain         243 non-null    float64\n",
            " 7   FFMC         243 non-null    float64\n",
            " 8   DMC          243 non-null    float64\n",
            " 9   DC           243 non-null    float64\n",
            " 10  ISI          243 non-null    float64\n",
            " 11  BUI          243 non-null    float64\n",
            " 12  FWI          243 non-null    float64\n",
            " 13  Classes      243 non-null    object \n",
            " 14  Region       243 non-null    int64  \n",
            "dtypes: float64(7), int64(7), object(1)\n",
            "memory usage: 28.6+ KB\n"
          ]
        }
      ],
      "source": [
        "df.info()"
      ]
    },
    {
      "cell_type": "code",
      "execution_count": 27,
      "metadata": {
        "id": "bhJSZh0Y0qye"
      },
      "outputs": [],
      "source": [
        "# Saving the cleaned dataset\n",
        "df.to_csv('Algerian_Forest_Fire_Cleaned_Dataset.csv',index=False)"
      ]
    },
    {
      "cell_type": "markdown",
      "metadata": {
        "id": "zogh5T7-vwfV"
      },
      "source": [
        "#### **Exploratory Data Analysis**"
      ]
    },
    {
      "cell_type": "code",
      "execution_count": 28,
      "metadata": {
        "id": "9ZdhmtHg1kvA"
      },
      "outputs": [],
      "source": [
        "# Drop the day, month, year columns\n",
        "df=df.drop(['day','month','year'],axis=1)"
      ]
    },
    {
      "cell_type": "code",
      "execution_count": 29,
      "metadata": {
        "colab": {
          "base_uri": "https://localhost:8080/",
          "height": 206
        },
        "id": "HoRKOqQB2W4E",
        "outputId": "5187605e-f72f-4a2b-84d1-da04ea0f2c74"
      },
      "outputs": [
        {
          "data": {
            "text/html": [
              "<div>\n",
              "<style scoped>\n",
              "    .dataframe tbody tr th:only-of-type {\n",
              "        vertical-align: middle;\n",
              "    }\n",
              "\n",
              "    .dataframe tbody tr th {\n",
              "        vertical-align: top;\n",
              "    }\n",
              "\n",
              "    .dataframe thead th {\n",
              "        text-align: right;\n",
              "    }\n",
              "</style>\n",
              "<table border=\"1\" class=\"dataframe\">\n",
              "  <thead>\n",
              "    <tr style=\"text-align: right;\">\n",
              "      <th></th>\n",
              "      <th>Temperature</th>\n",
              "      <th>RH</th>\n",
              "      <th>Ws</th>\n",
              "      <th>Rain</th>\n",
              "      <th>FFMC</th>\n",
              "      <th>DMC</th>\n",
              "      <th>DC</th>\n",
              "      <th>ISI</th>\n",
              "      <th>BUI</th>\n",
              "      <th>FWI</th>\n",
              "      <th>Classes</th>\n",
              "      <th>Region</th>\n",
              "    </tr>\n",
              "  </thead>\n",
              "  <tbody>\n",
              "    <tr>\n",
              "      <th>0</th>\n",
              "      <td>29</td>\n",
              "      <td>57</td>\n",
              "      <td>18</td>\n",
              "      <td>0.0</td>\n",
              "      <td>65.7</td>\n",
              "      <td>3.4</td>\n",
              "      <td>7.6</td>\n",
              "      <td>1.3</td>\n",
              "      <td>3.4</td>\n",
              "      <td>0.5</td>\n",
              "      <td>not fire</td>\n",
              "      <td>0</td>\n",
              "    </tr>\n",
              "    <tr>\n",
              "      <th>1</th>\n",
              "      <td>29</td>\n",
              "      <td>61</td>\n",
              "      <td>13</td>\n",
              "      <td>1.3</td>\n",
              "      <td>64.4</td>\n",
              "      <td>4.1</td>\n",
              "      <td>7.6</td>\n",
              "      <td>1.0</td>\n",
              "      <td>3.9</td>\n",
              "      <td>0.4</td>\n",
              "      <td>not fire</td>\n",
              "      <td>0</td>\n",
              "    </tr>\n",
              "    <tr>\n",
              "      <th>2</th>\n",
              "      <td>26</td>\n",
              "      <td>82</td>\n",
              "      <td>22</td>\n",
              "      <td>13.1</td>\n",
              "      <td>47.1</td>\n",
              "      <td>2.5</td>\n",
              "      <td>7.1</td>\n",
              "      <td>0.3</td>\n",
              "      <td>2.7</td>\n",
              "      <td>0.1</td>\n",
              "      <td>not fire</td>\n",
              "      <td>0</td>\n",
              "    </tr>\n",
              "    <tr>\n",
              "      <th>3</th>\n",
              "      <td>25</td>\n",
              "      <td>89</td>\n",
              "      <td>13</td>\n",
              "      <td>2.5</td>\n",
              "      <td>28.6</td>\n",
              "      <td>1.3</td>\n",
              "      <td>6.9</td>\n",
              "      <td>0.0</td>\n",
              "      <td>1.7</td>\n",
              "      <td>0.0</td>\n",
              "      <td>not fire</td>\n",
              "      <td>0</td>\n",
              "    </tr>\n",
              "    <tr>\n",
              "      <th>4</th>\n",
              "      <td>27</td>\n",
              "      <td>77</td>\n",
              "      <td>16</td>\n",
              "      <td>0.0</td>\n",
              "      <td>64.8</td>\n",
              "      <td>3.0</td>\n",
              "      <td>14.2</td>\n",
              "      <td>1.2</td>\n",
              "      <td>3.9</td>\n",
              "      <td>0.5</td>\n",
              "      <td>not fire</td>\n",
              "      <td>0</td>\n",
              "    </tr>\n",
              "  </tbody>\n",
              "</table>\n",
              "</div>"
            ],
            "text/plain": [
              "   Temperature  RH  Ws  Rain  FFMC  DMC    DC  ISI  BUI  FWI      Classes  \\\n",
              "0           29  57  18   0.0  65.7  3.4   7.6  1.3  3.4  0.5  not fire      \n",
              "1           29  61  13   1.3  64.4  4.1   7.6  1.0  3.9  0.4  not fire      \n",
              "2           26  82  22  13.1  47.1  2.5   7.1  0.3  2.7  0.1  not fire      \n",
              "3           25  89  13   2.5  28.6  1.3   6.9  0.0  1.7  0.0  not fire      \n",
              "4           27  77  16   0.0  64.8  3.0  14.2  1.2  3.9  0.5  not fire      \n",
              "\n",
              "   Region  \n",
              "0       0  \n",
              "1       0  \n",
              "2       0  \n",
              "3       0  \n",
              "4       0  "
            ]
          },
          "execution_count": 29,
          "metadata": {},
          "output_type": "execute_result"
        }
      ],
      "source": [
        "df.head()"
      ]
    },
    {
      "cell_type": "code",
      "execution_count": 30,
      "metadata": {
        "colab": {
          "base_uri": "https://localhost:8080/",
          "height": 366
        },
        "id": "de8-JYymGqQe",
        "outputId": "d9c46d74-e225-40ed-8d1b-38f4da45fd64"
      },
      "outputs": [
        {
          "data": {
            "text/plain": [
              "Classes\n",
              "fire             131\n",
              "not fire         101\n",
              "fire               4\n",
              "fire               2\n",
              "not fire           2\n",
              "not fire           1\n",
              "not fire           1\n",
              "not fire           1\n",
              "Name: count, dtype: int64"
            ]
          },
          "execution_count": 30,
          "metadata": {},
          "output_type": "execute_result"
        }
      ],
      "source": [
        "df['Classes'].value_counts()"
      ]
    },
    {
      "cell_type": "code",
      "execution_count": 31,
      "metadata": {
        "id": "ZoPAx31S1y9Y"
      },
      "outputs": [],
      "source": [
        "# Encoding of the categories in classes\n",
        "df['Classes']=np.where(df['Classes'].str.contains('not fire'),0,1)"
      ]
    },
    {
      "cell_type": "code",
      "execution_count": 32,
      "metadata": {
        "colab": {
          "base_uri": "https://localhost:8080/",
          "height": 178
        },
        "id": "mOQmVG1KGwyA",
        "outputId": "3e33e4d7-e271-4e3e-e164-77f2bd3a68a7"
      },
      "outputs": [
        {
          "data": {
            "text/plain": [
              "Classes\n",
              "1    137\n",
              "0    106\n",
              "Name: count, dtype: int64"
            ]
          },
          "execution_count": 32,
          "metadata": {},
          "output_type": "execute_result"
        }
      ],
      "source": [
        "df['Classes'].value_counts()"
      ]
    },
    {
      "cell_type": "code",
      "execution_count": null,
      "metadata": {
        "colab": {
          "base_uri": "https://localhost:8080/",
          "height": 811
        },
        "id": "BoerO--Z3lEZ",
        "outputId": "e16940d0-0fa6-4acb-fd26-b9a45115325d"
      },
      "outputs": [
        {
          "data": {
            "image/png": "[encoded data removed]",
            "text/plain": [
              "<Figure size 1200x1000 with 12 Axes>"
            ]
          },
          "metadata": {},
          "output_type": "display_data"
        }
      ],
      "source": [
        "# Polt density plot for all features\n",
        "plt.style.use('seaborn-v0_8')\n",
        "df.hist(bins=50,figsize=(12,10))\n",
        "plt.savefig('Histplot.png',dpi=300)\n",
        "plt.show()"
      ]
    },
    {
      "cell_type": "code",
      "execution_count": 34,
      "metadata": {
        "colab": {
          "base_uri": "https://localhost:8080/",
          "height": 460
        },
        "id": "J3nmL6lB5xbS",
        "outputId": "34f4e7a1-91d1-449e-fb04-19c84c5824c3"
      },
      "outputs": [
        {
          "data": {
            "image/png": "[encoded data removed]",
            "text/plain": [
              "<Figure size 800x550 with 1 Axes>"
            ]
          },
          "metadata": {},
          "output_type": "display_data"
        }
      ],
      "source": [
        "# Poltting piechart\n",
        "percentage=df['Classes'].value_counts(normalize=True)*100\n",
        "labels=['Not Fire','Fire']\n",
        "plt.pie(percentage,labels=labels,autopct='%1.2f%%',colors=['#d0e0e3','pink'])\n",
        "plt.savefig('Piechart.png',dpi=300)\n",
        "plt.show()"
      ]
    },
    {
      "cell_type": "code",
      "execution_count": 35,
      "metadata": {
        "colab": {
          "base_uri": "https://localhost:8080/",
          "height": 446
        },
        "id": "iG1pItBr8B23",
        "outputId": "0b95d922-1045-4036-8c66-98cc2eea48ce"
      },
      "outputs": [
        {
          "data": {
            "text/html": [
              "<div>\n",
              "<style scoped>\n",
              "    .dataframe tbody tr th:only-of-type {\n",
              "        vertical-align: middle;\n",
              "    }\n",
              "\n",
              "    .dataframe tbody tr th {\n",
              "        vertical-align: top;\n",
              "    }\n",
              "\n",
              "    .dataframe thead th {\n",
              "        text-align: right;\n",
              "    }\n",
              "</style>\n",
              "<table border=\"1\" class=\"dataframe\">\n",
              "  <thead>\n",
              "    <tr style=\"text-align: right;\">\n",
              "      <th></th>\n",
              "      <th>Temperature</th>\n",
              "      <th>RH</th>\n",
              "      <th>Ws</th>\n",
              "      <th>Rain</th>\n",
              "      <th>FFMC</th>\n",
              "      <th>DMC</th>\n",
              "      <th>DC</th>\n",
              "      <th>ISI</th>\n",
              "      <th>BUI</th>\n",
              "      <th>FWI</th>\n",
              "      <th>Classes</th>\n",
              "      <th>Region</th>\n",
              "    </tr>\n",
              "  </thead>\n",
              "  <tbody>\n",
              "    <tr>\n",
              "      <th>Temperature</th>\n",
              "      <td>1.000000</td>\n",
              "      <td>-0.651400</td>\n",
              "      <td>-0.284510</td>\n",
              "      <td>-0.326492</td>\n",
              "      <td>0.676568</td>\n",
              "      <td>0.485687</td>\n",
              "      <td>0.376284</td>\n",
              "      <td>0.603871</td>\n",
              "      <td>0.459789</td>\n",
              "      <td>0.566670</td>\n",
              "      <td>0.516015</td>\n",
              "      <td>0.269555</td>\n",
              "    </tr>\n",
              "    <tr>\n",
              "      <th>RH</th>\n",
              "      <td>-0.651400</td>\n",
              "      <td>1.000000</td>\n",
              "      <td>0.244048</td>\n",
              "      <td>0.222356</td>\n",
              "      <td>-0.644873</td>\n",
              "      <td>-0.408519</td>\n",
              "      <td>-0.226941</td>\n",
              "      <td>-0.686667</td>\n",
              "      <td>-0.353841</td>\n",
              "      <td>-0.580957</td>\n",
              "      <td>-0.432161</td>\n",
              "      <td>-0.402682</td>\n",
              "    </tr>\n",
              "    <tr>\n",
              "      <th>Ws</th>\n",
              "      <td>-0.284510</td>\n",
              "      <td>0.244048</td>\n",
              "      <td>1.000000</td>\n",
              "      <td>0.171506</td>\n",
              "      <td>-0.166548</td>\n",
              "      <td>-0.000721</td>\n",
              "      <td>0.079135</td>\n",
              "      <td>0.008532</td>\n",
              "      <td>0.031438</td>\n",
              "      <td>0.032368</td>\n",
              "      <td>-0.069964</td>\n",
              "      <td>-0.181160</td>\n",
              "    </tr>\n",
              "    <tr>\n",
              "      <th>Rain</th>\n",
              "      <td>-0.326492</td>\n",
              "      <td>0.222356</td>\n",
              "      <td>0.171506</td>\n",
              "      <td>1.000000</td>\n",
              "      <td>-0.543906</td>\n",
              "      <td>-0.288773</td>\n",
              "      <td>-0.298023</td>\n",
              "      <td>-0.347484</td>\n",
              "      <td>-0.299852</td>\n",
              "      <td>-0.324422</td>\n",
              "      <td>-0.379097</td>\n",
              "      <td>-0.040013</td>\n",
              "    </tr>\n",
              "    <tr>\n",
              "      <th>FFMC</th>\n",
              "      <td>0.676568</td>\n",
              "      <td>-0.644873</td>\n",
              "      <td>-0.166548</td>\n",
              "      <td>-0.543906</td>\n",
              "      <td>1.000000</td>\n",
              "      <td>0.603608</td>\n",
              "      <td>0.507397</td>\n",
              "      <td>0.740007</td>\n",
              "      <td>0.592011</td>\n",
              "      <td>0.691132</td>\n",
              "      <td>0.769492</td>\n",
              "      <td>0.222241</td>\n",
              "    </tr>\n",
              "    <tr>\n",
              "      <th>DMC</th>\n",
              "      <td>0.485687</td>\n",
              "      <td>-0.408519</td>\n",
              "      <td>-0.000721</td>\n",
              "      <td>-0.288773</td>\n",
              "      <td>0.603608</td>\n",
              "      <td>1.000000</td>\n",
              "      <td>0.875925</td>\n",
              "      <td>0.680454</td>\n",
              "      <td>0.982248</td>\n",
              "      <td>0.875864</td>\n",
              "      <td>0.585658</td>\n",
              "      <td>0.192089</td>\n",
              "    </tr>\n",
              "    <tr>\n",
              "      <th>DC</th>\n",
              "      <td>0.376284</td>\n",
              "      <td>-0.226941</td>\n",
              "      <td>0.079135</td>\n",
              "      <td>-0.298023</td>\n",
              "      <td>0.507397</td>\n",
              "      <td>0.875925</td>\n",
              "      <td>1.000000</td>\n",
              "      <td>0.508643</td>\n",
              "      <td>0.941988</td>\n",
              "      <td>0.739521</td>\n",
              "      <td>0.511123</td>\n",
              "      <td>-0.078734</td>\n",
              "    </tr>\n",
              "    <tr>\n",
              "      <th>ISI</th>\n",
              "      <td>0.603871</td>\n",
              "      <td>-0.686667</td>\n",
              "      <td>0.008532</td>\n",
              "      <td>-0.347484</td>\n",
              "      <td>0.740007</td>\n",
              "      <td>0.680454</td>\n",
              "      <td>0.508643</td>\n",
              "      <td>1.000000</td>\n",
              "      <td>0.644093</td>\n",
              "      <td>0.922895</td>\n",
              "      <td>0.735197</td>\n",
              "      <td>0.263197</td>\n",
              "    </tr>\n",
              "    <tr>\n",
              "      <th>BUI</th>\n",
              "      <td>0.459789</td>\n",
              "      <td>-0.353841</td>\n",
              "      <td>0.031438</td>\n",
              "      <td>-0.299852</td>\n",
              "      <td>0.592011</td>\n",
              "      <td>0.982248</td>\n",
              "      <td>0.941988</td>\n",
              "      <td>0.644093</td>\n",
              "      <td>1.000000</td>\n",
              "      <td>0.857973</td>\n",
              "      <td>0.586639</td>\n",
              "      <td>0.089408</td>\n",
              "    </tr>\n",
              "    <tr>\n",
              "      <th>FWI</th>\n",
              "      <td>0.566670</td>\n",
              "      <td>-0.580957</td>\n",
              "      <td>0.032368</td>\n",
              "      <td>-0.324422</td>\n",
              "      <td>0.691132</td>\n",
              "      <td>0.875864</td>\n",
              "      <td>0.739521</td>\n",
              "      <td>0.922895</td>\n",
              "      <td>0.857973</td>\n",
              "      <td>1.000000</td>\n",
              "      <td>0.719216</td>\n",
              "      <td>0.197102</td>\n",
              "    </tr>\n",
              "    <tr>\n",
              "      <th>Classes</th>\n",
              "      <td>0.516015</td>\n",
              "      <td>-0.432161</td>\n",
              "      <td>-0.069964</td>\n",
              "      <td>-0.379097</td>\n",
              "      <td>0.769492</td>\n",
              "      <td>0.585658</td>\n",
              "      <td>0.511123</td>\n",
              "      <td>0.735197</td>\n",
              "      <td>0.586639</td>\n",
              "      <td>0.719216</td>\n",
              "      <td>1.000000</td>\n",
              "      <td>0.162347</td>\n",
              "    </tr>\n",
              "    <tr>\n",
              "      <th>Region</th>\n",
              "      <td>0.269555</td>\n",
              "      <td>-0.402682</td>\n",
              "      <td>-0.181160</td>\n",
              "      <td>-0.040013</td>\n",
              "      <td>0.222241</td>\n",
              "      <td>0.192089</td>\n",
              "      <td>-0.078734</td>\n",
              "      <td>0.263197</td>\n",
              "      <td>0.089408</td>\n",
              "      <td>0.197102</td>\n",
              "      <td>0.162347</td>\n",
              "      <td>1.000000</td>\n",
              "    </tr>\n",
              "  </tbody>\n",
              "</table>\n",
              "</div>"
            ],
            "text/plain": [
              "             Temperature        RH        Ws      Rain      FFMC       DMC  \\\n",
              "Temperature     1.000000 -0.651400 -0.284510 -0.326492  0.676568  0.485687   \n",
              "RH             -0.651400  1.000000  0.244048  0.222356 -0.644873 -0.408519   \n",
              "Ws             -0.284510  0.244048  1.000000  0.171506 -0.166548 -0.000721   \n",
              "Rain           -0.326492  0.222356  0.171506  1.000000 -0.543906 -0.288773   \n",
              "FFMC            0.676568 -0.644873 -0.166548 -0.543906  1.000000  0.603608   \n",
              "DMC             0.485687 -0.408519 -0.000721 -0.288773  0.603608  1.000000   \n",
              "DC              0.376284 -0.226941  0.079135 -0.298023  0.507397  0.875925   \n",
              "ISI             0.603871 -0.686667  0.008532 -0.347484  0.740007  0.680454   \n",
              "BUI             0.459789 -0.353841  0.031438 -0.299852  0.592011  0.982248   \n",
              "FWI             0.566670 -0.580957  0.032368 -0.324422  0.691132  0.875864   \n",
              "Classes         0.516015 -0.432161 -0.069964 -0.379097  0.769492  0.585658   \n",
              "Region          0.269555 -0.402682 -0.181160 -0.040013  0.222241  0.192089   \n",
              "\n",
              "                   DC       ISI       BUI       FWI   Classes    Region  \n",
              "Temperature  0.376284  0.603871  0.459789  0.566670  0.516015  0.269555  \n",
              "RH          -0.226941 -0.686667 -0.353841 -0.580957 -0.432161 -0.402682  \n",
              "Ws           0.079135  0.008532  0.031438  0.032368 -0.069964 -0.181160  \n",
              "Rain        -0.298023 -0.347484 -0.299852 -0.324422 -0.379097 -0.040013  \n",
              "FFMC         0.507397  0.740007  0.592011  0.691132  0.769492  0.222241  \n",
              "DMC          0.875925  0.680454  0.982248  0.875864  0.585658  0.192089  \n",
              "DC           1.000000  0.508643  0.941988  0.739521  0.511123 -0.078734  \n",
              "ISI          0.508643  1.000000  0.644093  0.922895  0.735197  0.263197  \n",
              "BUI          0.941988  0.644093  1.000000  0.857973  0.586639  0.089408  \n",
              "FWI          0.739521  0.922895  0.857973  1.000000  0.719216  0.197102  \n",
              "Classes      0.511123  0.735197  0.586639  0.719216  1.000000  0.162347  \n",
              "Region      -0.078734  0.263197  0.089408  0.197102  0.162347  1.000000  "
            ]
          },
          "execution_count": 35,
          "metadata": {},
          "output_type": "execute_result"
        }
      ],
      "source": [
        "# Correlation\n",
        "df.corr()"
      ]
    },
    {
      "cell_type": "code",
      "execution_count": 36,
      "metadata": {
        "colab": {
          "base_uri": "https://localhost:8080/",
          "height": 690
        },
        "id": "f-BVIjHi7h2-",
        "outputId": "0b422e3e-0cfb-4610-fca0-45373d1d80cd"
      },
      "outputs": [
        {
          "data": {
            "image/png": "[encoded data removed]",
            "text/plain": [
              "<Figure size 1000x800 with 2 Axes>"
            ]
          },
          "metadata": {},
          "output_type": "display_data"
        }
      ],
      "source": [
        "plt.figure(figsize=(10,8))\n",
        "sns.heatmap(df.corr(),annot=True)\n",
        "plt.savefig(\"Heatmap.png\",dpi=300)"
      ]
    },
    {
      "cell_type": "code",
      "execution_count": 37,
      "metadata": {
        "colab": {
          "base_uri": "https://localhost:8080/",
          "height": 477
        },
        "id": "6eJ3tahd0uTB",
        "outputId": "90958f42-7bd4-4213-a56a-213553466839"
      },
      "outputs": [
        {
          "data": {
            "text/plain": [
              "<Axes: ylabel='FWI'>"
            ]
          },
          "execution_count": 37,
          "metadata": {},
          "output_type": "execute_result"
        },
        {
          "data": {
            "image/png": "[encoded data removed]",
            "text/plain": [
              "<Figure size 800x550 with 1 Axes>"
            ]
          },
          "metadata": {},
          "output_type": "display_data"
        }
      ],
      "source": [
        "# Box plot\n",
        "sns.boxplot(data=df['FWI'],color='purple')"
      ]
    },
    {
      "cell_type": "code",
      "execution_count": 38,
      "metadata": {
        "id": "U5hS0e2M8IoT"
      },
      "outputs": [],
      "source": [
        "# Independent and dependent features\n",
        "X=df.drop('FWI',axis=1)\n",
        "y=df['FWI']"
      ]
    },
    {
      "cell_type": "code",
      "execution_count": 39,
      "metadata": {
        "colab": {
          "base_uri": "https://localhost:8080/",
          "height": 424
        },
        "id": "Q4JIGS612Y35",
        "outputId": "49d18a53-050c-45a9-d2f4-45473233eca1"
      },
      "outputs": [
        {
          "data": {
            "text/html": [
              "<div>\n",
              "<style scoped>\n",
              "    .dataframe tbody tr th:only-of-type {\n",
              "        vertical-align: middle;\n",
              "    }\n",
              "\n",
              "    .dataframe tbody tr th {\n",
              "        vertical-align: top;\n",
              "    }\n",
              "\n",
              "    .dataframe thead th {\n",
              "        text-align: right;\n",
              "    }\n",
              "</style>\n",
              "<table border=\"1\" class=\"dataframe\">\n",
              "  <thead>\n",
              "    <tr style=\"text-align: right;\">\n",
              "      <th></th>\n",
              "      <th>Temperature</th>\n",
              "      <th>RH</th>\n",
              "      <th>Ws</th>\n",
              "      <th>Rain</th>\n",
              "      <th>FFMC</th>\n",
              "      <th>DMC</th>\n",
              "      <th>DC</th>\n",
              "      <th>ISI</th>\n",
              "      <th>BUI</th>\n",
              "      <th>Classes</th>\n",
              "      <th>Region</th>\n",
              "    </tr>\n",
              "  </thead>\n",
              "  <tbody>\n",
              "    <tr>\n",
              "      <th>0</th>\n",
              "      <td>29</td>\n",
              "      <td>57</td>\n",
              "      <td>18</td>\n",
              "      <td>0.0</td>\n",
              "      <td>65.7</td>\n",
              "      <td>3.4</td>\n",
              "      <td>7.6</td>\n",
              "      <td>1.3</td>\n",
              "      <td>3.4</td>\n",
              "      <td>0</td>\n",
              "      <td>0</td>\n",
              "    </tr>\n",
              "    <tr>\n",
              "      <th>1</th>\n",
              "      <td>29</td>\n",
              "      <td>61</td>\n",
              "      <td>13</td>\n",
              "      <td>1.3</td>\n",
              "      <td>64.4</td>\n",
              "      <td>4.1</td>\n",
              "      <td>7.6</td>\n",
              "      <td>1.0</td>\n",
              "      <td>3.9</td>\n",
              "      <td>0</td>\n",
              "      <td>0</td>\n",
              "    </tr>\n",
              "    <tr>\n",
              "      <th>2</th>\n",
              "      <td>26</td>\n",
              "      <td>82</td>\n",
              "      <td>22</td>\n",
              "      <td>13.1</td>\n",
              "      <td>47.1</td>\n",
              "      <td>2.5</td>\n",
              "      <td>7.1</td>\n",
              "      <td>0.3</td>\n",
              "      <td>2.7</td>\n",
              "      <td>0</td>\n",
              "      <td>0</td>\n",
              "    </tr>\n",
              "    <tr>\n",
              "      <th>3</th>\n",
              "      <td>25</td>\n",
              "      <td>89</td>\n",
              "      <td>13</td>\n",
              "      <td>2.5</td>\n",
              "      <td>28.6</td>\n",
              "      <td>1.3</td>\n",
              "      <td>6.9</td>\n",
              "      <td>0.0</td>\n",
              "      <td>1.7</td>\n",
              "      <td>0</td>\n",
              "      <td>0</td>\n",
              "    </tr>\n",
              "    <tr>\n",
              "      <th>4</th>\n",
              "      <td>27</td>\n",
              "      <td>77</td>\n",
              "      <td>16</td>\n",
              "      <td>0.0</td>\n",
              "      <td>64.8</td>\n",
              "      <td>3.0</td>\n",
              "      <td>14.2</td>\n",
              "      <td>1.2</td>\n",
              "      <td>3.9</td>\n",
              "      <td>0</td>\n",
              "      <td>0</td>\n",
              "    </tr>\n",
              "    <tr>\n",
              "      <th>...</th>\n",
              "      <td>...</td>\n",
              "      <td>...</td>\n",
              "      <td>...</td>\n",
              "      <td>...</td>\n",
              "      <td>...</td>\n",
              "      <td>...</td>\n",
              "      <td>...</td>\n",
              "      <td>...</td>\n",
              "      <td>...</td>\n",
              "      <td>...</td>\n",
              "      <td>...</td>\n",
              "    </tr>\n",
              "    <tr>\n",
              "      <th>238</th>\n",
              "      <td>30</td>\n",
              "      <td>65</td>\n",
              "      <td>14</td>\n",
              "      <td>0.0</td>\n",
              "      <td>85.4</td>\n",
              "      <td>16.0</td>\n",
              "      <td>44.5</td>\n",
              "      <td>4.5</td>\n",
              "      <td>16.9</td>\n",
              "      <td>1</td>\n",
              "      <td>1</td>\n",
              "    </tr>\n",
              "    <tr>\n",
              "      <th>239</th>\n",
              "      <td>28</td>\n",
              "      <td>87</td>\n",
              "      <td>15</td>\n",
              "      <td>4.4</td>\n",
              "      <td>41.1</td>\n",
              "      <td>6.5</td>\n",
              "      <td>8.0</td>\n",
              "      <td>0.1</td>\n",
              "      <td>6.2</td>\n",
              "      <td>0</td>\n",
              "      <td>1</td>\n",
              "    </tr>\n",
              "    <tr>\n",
              "      <th>240</th>\n",
              "      <td>27</td>\n",
              "      <td>87</td>\n",
              "      <td>29</td>\n",
              "      <td>0.5</td>\n",
              "      <td>45.9</td>\n",
              "      <td>3.5</td>\n",
              "      <td>7.9</td>\n",
              "      <td>0.4</td>\n",
              "      <td>3.4</td>\n",
              "      <td>0</td>\n",
              "      <td>1</td>\n",
              "    </tr>\n",
              "    <tr>\n",
              "      <th>241</th>\n",
              "      <td>24</td>\n",
              "      <td>54</td>\n",
              "      <td>18</td>\n",
              "      <td>0.1</td>\n",
              "      <td>79.7</td>\n",
              "      <td>4.3</td>\n",
              "      <td>15.2</td>\n",
              "      <td>1.7</td>\n",
              "      <td>5.1</td>\n",
              "      <td>0</td>\n",
              "      <td>1</td>\n",
              "    </tr>\n",
              "    <tr>\n",
              "      <th>242</th>\n",
              "      <td>24</td>\n",
              "      <td>64</td>\n",
              "      <td>15</td>\n",
              "      <td>0.2</td>\n",
              "      <td>67.3</td>\n",
              "      <td>3.8</td>\n",
              "      <td>16.5</td>\n",
              "      <td>1.2</td>\n",
              "      <td>4.8</td>\n",
              "      <td>0</td>\n",
              "      <td>1</td>\n",
              "    </tr>\n",
              "  </tbody>\n",
              "</table>\n",
              "<p>243 rows × 11 columns</p>\n",
              "</div>"
            ],
            "text/plain": [
              "     Temperature  RH  Ws  Rain  FFMC   DMC    DC  ISI   BUI  Classes  Region\n",
              "0             29  57  18   0.0  65.7   3.4   7.6  1.3   3.4        0       0\n",
              "1             29  61  13   1.3  64.4   4.1   7.6  1.0   3.9        0       0\n",
              "2             26  82  22  13.1  47.1   2.5   7.1  0.3   2.7        0       0\n",
              "3             25  89  13   2.5  28.6   1.3   6.9  0.0   1.7        0       0\n",
              "4             27  77  16   0.0  64.8   3.0  14.2  1.2   3.9        0       0\n",
              "..           ...  ..  ..   ...   ...   ...   ...  ...   ...      ...     ...\n",
              "238           30  65  14   0.0  85.4  16.0  44.5  4.5  16.9        1       1\n",
              "239           28  87  15   4.4  41.1   6.5   8.0  0.1   6.2        0       1\n",
              "240           27  87  29   0.5  45.9   3.5   7.9  0.4   3.4        0       1\n",
              "241           24  54  18   0.1  79.7   4.3  15.2  1.7   5.1        0       1\n",
              "242           24  64  15   0.2  67.3   3.8  16.5  1.2   4.8        0       1\n",
              "\n",
              "[243 rows x 11 columns]"
            ]
          },
          "execution_count": 39,
          "metadata": {},
          "output_type": "execute_result"
        }
      ],
      "source": [
        "X"
      ]
    },
    {
      "cell_type": "code",
      "execution_count": 40,
      "metadata": {
        "colab": {
          "base_uri": "https://localhost:8080/",
          "height": 458
        },
        "id": "pkMnc2Bf2bZH",
        "outputId": "69753769-365a-449c-8256-a3194fa69899"
      },
      "outputs": [
        {
          "data": {
            "text/plain": [
              "0      0.5\n",
              "1      0.4\n",
              "2      0.1\n",
              "3      0.0\n",
              "4      0.5\n",
              "      ... \n",
              "238    6.5\n",
              "239    0.0\n",
              "240    0.2\n",
              "241    0.7\n",
              "242    0.5\n",
              "Name: FWI, Length: 243, dtype: float64"
            ]
          },
          "execution_count": 40,
          "metadata": {},
          "output_type": "execute_result"
        }
      ],
      "source": [
        "y"
      ]
    },
    {
      "cell_type": "code",
      "execution_count": 41,
      "metadata": {
        "id": "9b-66uV92eZn"
      },
      "outputs": [],
      "source": [
        "# Train test split\n",
        "from sklearn.model_selection import train_test_split\n",
        "X_train,X_test,y_train,y_test=train_test_split(X,y,test_size=0.2,random_state=42)"
      ]
    },
    {
      "cell_type": "code",
      "execution_count": 42,
      "metadata": {
        "colab": {
          "base_uri": "https://localhost:8080/"
        },
        "id": "aeTmD8Xh3eZz",
        "outputId": "55710a45-df62-43f9-8ac0-1ea18e73bede"
      },
      "outputs": [
        {
          "data": {
            "text/plain": [
              "((194, 11), (49, 11))"
            ]
          },
          "execution_count": 42,
          "metadata": {},
          "output_type": "execute_result"
        }
      ],
      "source": [
        "X_train.shape,X_test.shape"
      ]
    },
    {
      "cell_type": "code",
      "execution_count": 43,
      "metadata": {
        "colab": {
          "base_uri": "https://localhost:8080/",
          "height": 414
        },
        "id": "Kp9UyARm2Tr9",
        "outputId": "70069282-6df4-471e-a87a-e2af4c58916f"
      },
      "outputs": [
        {
          "data": {
            "text/html": [
              "<div>\n",
              "<style scoped>\n",
              "    .dataframe tbody tr th:only-of-type {\n",
              "        vertical-align: middle;\n",
              "    }\n",
              "\n",
              "    .dataframe tbody tr th {\n",
              "        vertical-align: top;\n",
              "    }\n",
              "\n",
              "    .dataframe thead th {\n",
              "        text-align: right;\n",
              "    }\n",
              "</style>\n",
              "<table border=\"1\" class=\"dataframe\">\n",
              "  <thead>\n",
              "    <tr style=\"text-align: right;\">\n",
              "      <th></th>\n",
              "      <th>Temperature</th>\n",
              "      <th>RH</th>\n",
              "      <th>Ws</th>\n",
              "      <th>Rain</th>\n",
              "      <th>FFMC</th>\n",
              "      <th>DMC</th>\n",
              "      <th>DC</th>\n",
              "      <th>ISI</th>\n",
              "      <th>BUI</th>\n",
              "      <th>Classes</th>\n",
              "      <th>Region</th>\n",
              "    </tr>\n",
              "  </thead>\n",
              "  <tbody>\n",
              "    <tr>\n",
              "      <th>Temperature</th>\n",
              "      <td>1.000000</td>\n",
              "      <td>-0.653725</td>\n",
              "      <td>-0.308149</td>\n",
              "      <td>-0.313112</td>\n",
              "      <td>0.690285</td>\n",
              "      <td>0.468911</td>\n",
              "      <td>0.372163</td>\n",
              "      <td>0.613138</td>\n",
              "      <td>0.446280</td>\n",
              "      <td>0.539642</td>\n",
              "      <td>0.258344</td>\n",
              "    </tr>\n",
              "    <tr>\n",
              "      <th>RH</th>\n",
              "      <td>-0.653725</td>\n",
              "      <td>1.000000</td>\n",
              "      <td>0.211645</td>\n",
              "      <td>0.239441</td>\n",
              "      <td>-0.649239</td>\n",
              "      <td>-0.401836</td>\n",
              "      <td>-0.220945</td>\n",
              "      <td>-0.714640</td>\n",
              "      <td>-0.346511</td>\n",
              "      <td>-0.454926</td>\n",
              "      <td>-0.408441</td>\n",
              "    </tr>\n",
              "    <tr>\n",
              "      <th>Ws</th>\n",
              "      <td>-0.308149</td>\n",
              "      <td>0.211645</td>\n",
              "      <td>1.000000</td>\n",
              "      <td>0.235922</td>\n",
              "      <td>-0.176596</td>\n",
              "      <td>0.004712</td>\n",
              "      <td>0.092866</td>\n",
              "      <td>-0.002300</td>\n",
              "      <td>0.037465</td>\n",
              "      <td>-0.075322</td>\n",
              "      <td>-0.202357</td>\n",
              "    </tr>\n",
              "    <tr>\n",
              "      <th>Rain</th>\n",
              "      <td>-0.313112</td>\n",
              "      <td>0.239441</td>\n",
              "      <td>0.235922</td>\n",
              "      <td>1.000000</td>\n",
              "      <td>-0.547864</td>\n",
              "      <td>-0.288538</td>\n",
              "      <td>-0.301110</td>\n",
              "      <td>-0.349903</td>\n",
              "      <td>-0.299179</td>\n",
              "      <td>-0.378585</td>\n",
              "      <td>-0.057382</td>\n",
              "    </tr>\n",
              "    <tr>\n",
              "      <th>FFMC</th>\n",
              "      <td>0.690285</td>\n",
              "      <td>-0.649239</td>\n",
              "      <td>-0.176596</td>\n",
              "      <td>-0.547864</td>\n",
              "      <td>1.000000</td>\n",
              "      <td>0.611978</td>\n",
              "      <td>0.519513</td>\n",
              "      <td>0.751819</td>\n",
              "      <td>0.598248</td>\n",
              "      <td>0.786012</td>\n",
              "      <td>0.254770</td>\n",
              "    </tr>\n",
              "    <tr>\n",
              "      <th>DMC</th>\n",
              "      <td>0.468911</td>\n",
              "      <td>-0.401836</td>\n",
              "      <td>0.004712</td>\n",
              "      <td>-0.288538</td>\n",
              "      <td>0.611978</td>\n",
              "      <td>1.000000</td>\n",
              "      <td>0.876122</td>\n",
              "      <td>0.679049</td>\n",
              "      <td>0.983891</td>\n",
              "      <td>0.606775</td>\n",
              "      <td>0.188980</td>\n",
              "    </tr>\n",
              "    <tr>\n",
              "      <th>DC</th>\n",
              "      <td>0.372163</td>\n",
              "      <td>-0.220945</td>\n",
              "      <td>0.092866</td>\n",
              "      <td>-0.301110</td>\n",
              "      <td>0.519513</td>\n",
              "      <td>0.876122</td>\n",
              "      <td>1.000000</td>\n",
              "      <td>0.512934</td>\n",
              "      <td>0.946181</td>\n",
              "      <td>0.538893</td>\n",
              "      <td>-0.083038</td>\n",
              "    </tr>\n",
              "    <tr>\n",
              "      <th>ISI</th>\n",
              "      <td>0.613138</td>\n",
              "      <td>-0.714640</td>\n",
              "      <td>-0.002300</td>\n",
              "      <td>-0.349903</td>\n",
              "      <td>0.751819</td>\n",
              "      <td>0.679049</td>\n",
              "      <td>0.512934</td>\n",
              "      <td>1.000000</td>\n",
              "      <td>0.637669</td>\n",
              "      <td>0.740072</td>\n",
              "      <td>0.291889</td>\n",
              "    </tr>\n",
              "    <tr>\n",
              "      <th>BUI</th>\n",
              "      <td>0.446280</td>\n",
              "      <td>-0.346511</td>\n",
              "      <td>0.037465</td>\n",
              "      <td>-0.299179</td>\n",
              "      <td>0.598248</td>\n",
              "      <td>0.983891</td>\n",
              "      <td>0.946181</td>\n",
              "      <td>0.637669</td>\n",
              "      <td>1.000000</td>\n",
              "      <td>0.602102</td>\n",
              "      <td>0.090326</td>\n",
              "    </tr>\n",
              "    <tr>\n",
              "      <th>Classes</th>\n",
              "      <td>0.539642</td>\n",
              "      <td>-0.454926</td>\n",
              "      <td>-0.075322</td>\n",
              "      <td>-0.378585</td>\n",
              "      <td>0.786012</td>\n",
              "      <td>0.606775</td>\n",
              "      <td>0.538893</td>\n",
              "      <td>0.740072</td>\n",
              "      <td>0.602102</td>\n",
              "      <td>1.000000</td>\n",
              "      <td>0.196276</td>\n",
              "    </tr>\n",
              "    <tr>\n",
              "      <th>Region</th>\n",
              "      <td>0.258344</td>\n",
              "      <td>-0.408441</td>\n",
              "      <td>-0.202357</td>\n",
              "      <td>-0.057382</td>\n",
              "      <td>0.254770</td>\n",
              "      <td>0.188980</td>\n",
              "      <td>-0.083038</td>\n",
              "      <td>0.291889</td>\n",
              "      <td>0.090326</td>\n",
              "      <td>0.196276</td>\n",
              "      <td>1.000000</td>\n",
              "    </tr>\n",
              "  </tbody>\n",
              "</table>\n",
              "</div>"
            ],
            "text/plain": [
              "             Temperature        RH        Ws      Rain      FFMC       DMC  \\\n",
              "Temperature     1.000000 -0.653725 -0.308149 -0.313112  0.690285  0.468911   \n",
              "RH             -0.653725  1.000000  0.211645  0.239441 -0.649239 -0.401836   \n",
              "Ws             -0.308149  0.211645  1.000000  0.235922 -0.176596  0.004712   \n",
              "Rain           -0.313112  0.239441  0.235922  1.000000 -0.547864 -0.288538   \n",
              "FFMC            0.690285 -0.649239 -0.176596 -0.547864  1.000000  0.611978   \n",
              "DMC             0.468911 -0.401836  0.004712 -0.288538  0.611978  1.000000   \n",
              "DC              0.372163 -0.220945  0.092866 -0.301110  0.519513  0.876122   \n",
              "ISI             0.613138 -0.714640 -0.002300 -0.349903  0.751819  0.679049   \n",
              "BUI             0.446280 -0.346511  0.037465 -0.299179  0.598248  0.983891   \n",
              "Classes         0.539642 -0.454926 -0.075322 -0.378585  0.786012  0.606775   \n",
              "Region          0.258344 -0.408441 -0.202357 -0.057382  0.254770  0.188980   \n",
              "\n",
              "                   DC       ISI       BUI   Classes    Region  \n",
              "Temperature  0.372163  0.613138  0.446280  0.539642  0.258344  \n",
              "RH          -0.220945 -0.714640 -0.346511 -0.454926 -0.408441  \n",
              "Ws           0.092866 -0.002300  0.037465 -0.075322 -0.202357  \n",
              "Rain        -0.301110 -0.349903 -0.299179 -0.378585 -0.057382  \n",
              "FFMC         0.519513  0.751819  0.598248  0.786012  0.254770  \n",
              "DMC          0.876122  0.679049  0.983891  0.606775  0.188980  \n",
              "DC           1.000000  0.512934  0.946181  0.538893 -0.083038  \n",
              "ISI          0.512934  1.000000  0.637669  0.740072  0.291889  \n",
              "BUI          0.946181  0.637669  1.000000  0.602102  0.090326  \n",
              "Classes      0.538893  0.740072  0.602102  1.000000  0.196276  \n",
              "Region      -0.083038  0.291889  0.090326  0.196276  1.000000  "
            ]
          },
          "execution_count": 43,
          "metadata": {},
          "output_type": "execute_result"
        }
      ],
      "source": [
        "# Feature selection based on correlation\n",
        "X_train.corr()"
      ]
    },
    {
      "cell_type": "code",
      "execution_count": 44,
      "metadata": {
        "colab": {
          "base_uri": "https://localhost:8080/",
          "height": 704
        },
        "id": "8lBpcemG3nSW",
        "outputId": "c4280a8c-28c5-4e7f-e39e-83e40f5a8a4f"
      },
      "outputs": [
        {
          "data": {
            "text/plain": [
              "<Axes: >"
            ]
          },
          "execution_count": 44,
          "metadata": {},
          "output_type": "execute_result"
        },
        {
          "data": {
            "image/png": "[encoded data removed]",
            "text/plain": [
              "<Figure size 1000x800 with 2 Axes>"
            ]
          },
          "metadata": {},
          "output_type": "display_data"
        }
      ],
      "source": [
        "# Check for multicollinearity\n",
        "plt.figure(figsize=(10,8))\n",
        "sns.heatmap(X_train.corr(),annot=True)"
      ]
    },
    {
      "cell_type": "code",
      "execution_count": 45,
      "metadata": {
        "id": "1m7ZeKys4Iun"
      },
      "outputs": [],
      "source": [
        "def correlation(dataset, threshold):\n",
        "    col_corr = set()\n",
        "    corr_matrix = dataset.corr()\n",
        "    for i in range(len(corr_matrix.columns)):\n",
        "        for j in range(i):\n",
        "            if abs(corr_matrix.iloc[i, j]) > threshold:\n",
        "                colname = corr_matrix.columns[i]\n",
        "                col_corr.add(colname)\n",
        "    return col_corr"
      ]
    },
    {
      "cell_type": "code",
      "execution_count": 46,
      "metadata": {
        "id": "0NvmH4Tg2MsP"
      },
      "outputs": [],
      "source": [
        "# Threshold\n",
        "col = correlation(X_train,0.85)"
      ]
    },
    {
      "cell_type": "code",
      "execution_count": 47,
      "metadata": {
        "id": "p36t2Xdw35fV"
      },
      "outputs": [],
      "source": [
        "# Drop features when threshold is more than 0.85\n",
        "X_train.drop(col,axis=1,inplace=True)\n",
        "X_test.drop(col,axis=1,inplace=True)"
      ]
    },
    {
      "cell_type": "code",
      "execution_count": 48,
      "metadata": {
        "colab": {
          "base_uri": "https://localhost:8080/"
        },
        "id": "XLmQ_Urb6ybi",
        "outputId": "f0cc2b3a-438b-4a07-a40d-6ffe4e46a458"
      },
      "outputs": [
        {
          "data": {
            "text/plain": [
              "((194, 9), (49, 9))"
            ]
          },
          "execution_count": 48,
          "metadata": {},
          "output_type": "execute_result"
        }
      ],
      "source": [
        "X_train.shape,X_test.shape"
      ]
    },
    {
      "cell_type": "code",
      "execution_count": 49,
      "metadata": {
        "colab": {
          "base_uri": "https://localhost:8080/",
          "height": 366
        },
        "id": "kOlWERP56hNq",
        "outputId": "ec009342-209c-4618-b500-f9d478030f58"
      },
      "outputs": [
        {
          "data": {
            "text/plain": [
              "Temperature   -0.211752\n",
              "RH            -0.331607\n",
              "Ws             0.372481\n",
              "Rain           4.525577\n",
              "FFMC          -1.229174\n",
              "DMC            1.487047\n",
              "ISI            1.072601\n",
              "Classes       -0.272594\n",
              "Region        -0.020781\n",
              "dtype: float64"
            ]
          },
          "execution_count": 49,
          "metadata": {},
          "output_type": "execute_result"
        }
      ],
      "source": [
        "# Checking the Skewness of the features\n",
        "X_train.skew()"
      ]
    },
    {
      "cell_type": "markdown",
      "metadata": {
        "id": "wocTR4Pc8MjS"
      },
      "source": [
        "#### **Skewness Reduction or Log Transformation**"
      ]
    },
    {
      "cell_type": "code",
      "execution_count": 50,
      "metadata": {
        "colab": {
          "base_uri": "https://localhost:8080/"
        },
        "id": "0lkiCbgr7C5-",
        "outputId": "cc5002e0-1bf6-4292-a86a-7e78c17e69f2"
      },
      "outputs": [
        {
          "name": "stdout",
          "output_type": "stream",
          "text": [
            "Temperature    False\n",
            "RH             False\n",
            "Ws             False\n",
            "Rain            True\n",
            "FFMC           False\n",
            "DMC             True\n",
            "ISI             True\n",
            "Classes        False\n",
            "Region         False\n",
            "dtype: bool\n"
          ]
        }
      ],
      "source": [
        "column=X_train.skew()>0.5\n",
        "print(column)\n",
        "col_to_log = ['Rain','DMC','ISI']\n",
        "for col in col_to_log:\n",
        "  X_train[col]=np.log1p(X_train[col])\n",
        "  X_test[col]=np.log1p(X_test[col])"
      ]
    },
    {
      "cell_type": "code",
      "execution_count": 51,
      "metadata": {
        "colab": {
          "base_uri": "https://localhost:8080/",
          "height": 366
        },
        "id": "oCOV56Sx7dij",
        "outputId": "57430f70-bd8e-46cb-de8a-7daff3a667c3"
      },
      "outputs": [
        {
          "data": {
            "text/plain": [
              "Temperature   -0.211752\n",
              "RH            -0.331607\n",
              "Ws             0.372481\n",
              "Rain           2.189029\n",
              "FFMC          -1.229174\n",
              "DMC           -0.145853\n",
              "ISI           -0.042243\n",
              "Classes       -0.272594\n",
              "Region        -0.020781\n",
              "dtype: float64"
            ]
          },
          "execution_count": 51,
          "metadata": {},
          "output_type": "execute_result"
        }
      ],
      "source": [
        "X_train.skew()"
      ]
    },
    {
      "cell_type": "markdown",
      "metadata": {
        "id": "q4vpNjVh3B5G"
      },
      "source": [
        "#### **Feature Scaling or Standardization**"
      ]
    },
    {
      "cell_type": "code",
      "execution_count": 52,
      "metadata": {
        "id": "7rNd4H8c64kT"
      },
      "outputs": [],
      "source": [
        "from sklearn.preprocessing import StandardScaler"
      ]
    },
    {
      "cell_type": "code",
      "execution_count": 53,
      "metadata": {
        "id": "ATtY5Hgu7Mej"
      },
      "outputs": [],
      "source": [
        "scaler=StandardScaler()\n",
        "X_train_scaled=scaler.fit_transform(X_train)\n",
        "X_test_scaled=scaler.transform(X_test)"
      ]
    },
    {
      "cell_type": "code",
      "execution_count": 54,
      "metadata": {
        "colab": {
          "base_uri": "https://localhost:8080/"
        },
        "id": "jIVdJhI9AKin",
        "outputId": "92f1a3dd-2209-4927-d881-4911ecea18d9"
      },
      "outputs": [
        {
          "data": {
            "text/plain": [
              "array([[-0.87563202,  0.21321832,  1.28577038, ..., -0.78377762,\n",
              "        -1.14434427, -1.01036297],\n",
              "       [ 0.22209084, -1.65484925,  0.14504117, ...,  1.49805751,\n",
              "         0.8738629 ,  0.98974332],\n",
              "       [ 1.5942444 , -1.25454906, -0.99568804, ...,  0.15665183,\n",
              "         0.8738629 ,  0.98974332],\n",
              "       ...,\n",
              "       [-1.97335488,  0.947102  ,  0.52528424, ..., -1.75193305,\n",
              "        -1.14434427, -1.01036297],\n",
              "       [ 0.49652155, -0.18708188,  0.14504117, ...,  0.81485523,\n",
              "         0.8738629 ,  0.98974332],\n",
              "       [-0.60120131,  1.0138187 ,  2.04625653, ..., -1.01376164,\n",
              "        -1.14434427, -1.01036297]], shape=(194, 9))"
            ]
          },
          "execution_count": 54,
          "metadata": {},
          "output_type": "execute_result"
        }
      ],
      "source": [
        "X_train_scaled"
      ]
    },
    {
      "cell_type": "markdown",
      "metadata": {
        "id": "A6XcU3m63Pqt"
      },
      "source": [
        "#### **Box pot to understand effects of standard scaler**"
      ]
    },
    {
      "cell_type": "code",
      "execution_count": 55,
      "metadata": {
        "id": "MS3Wy5qX7RW4"
      },
      "outputs": [],
      "source": [
        "X_train_scaled_df = pd.DataFrame(X_train_scaled, columns=X_train.columns)"
      ]
    },
    {
      "cell_type": "code",
      "execution_count": 56,
      "metadata": {
        "colab": {
          "base_uri": "https://localhost:8080/",
          "height": 368
        },
        "id": "IfGmsVw86AyN",
        "outputId": "3799b908-ac0b-44db-f0b3-bc4b60860ca0"
      },
      "outputs": [
        {
          "data": {
            "image/png": "[encoded data removed]",
            "text/plain": [
              "<Figure size 1600x600 with 2 Axes>"
            ]
          },
          "metadata": {},
          "output_type": "display_data"
        }
      ],
      "source": [
        "fig, (ax1, ax2) = plt.subplots(1, 2, figsize=(16, 6))\n",
        "sns.boxplot(data=X_train, ax=ax1)\n",
        "ax1.set_title(\"Original Data\")\n",
        "ax1.set_xticks(range(len(X_train.columns)))  # Fix x tick positions\n",
        "ax1.set_xticklabels(X_train.columns, rotation=45, ha='right')  # Fix x tick labels\n",
        "\n",
        "ax1.yaxis.set_major_locator(plt.MaxNLocator(integer=True))\n",
        "sns.boxplot(data=X_train_scaled, ax=ax2)\n",
        "ax2.set_title(\"Scaled Data\")\n",
        "ax2.set_xticks(range(len(X_train_scaled_df.columns)))\n",
        "ax2.set_xticklabels(X_train_scaled_df.columns, rotation=45, ha='right')\n",
        "\n",
        "# Set custom y ticks for scaled data (e.g., -3 to 3)\n",
        "ax2.set_yticks([-3, -2, -1, 0, 1, 2, 3])\n",
        "plt.tight_layout()\n",
        "plt.savefig(\"Boxplts.png\",dpi=300)\n",
        "plt.show()"
      ]
    },
    {
      "cell_type": "markdown",
      "metadata": {
        "id": "o2_Yb-vn3md4"
      },
      "source": [
        "### **Linear Regression Model**"
      ]
    },
    {
      "cell_type": "code",
      "execution_count": 57,
      "metadata": {
        "colab": {
          "base_uri": "https://localhost:8080/",
          "height": 485
        },
        "id": "3gWJdmuOo04R",
        "outputId": "07f94f41-1274-43b0-a056-4d88dc54d520"
      },
      "outputs": [
        {
          "data": {
            "image/png": "[encoded data removed]",
            "text/plain": [
              "<Figure size 800x500 with 1 Axes>"
            ]
          },
          "metadata": {},
          "output_type": "display_data"
        }
      ],
      "source": [
        "from sklearn.linear_model import LinearRegression\n",
        "linreg=LinearRegression()\n",
        "linreg.fit(X_train_scaled,y_train)\n",
        "y_pred=linreg.predict(X_test_scaled)\n",
        "plt.figure(figsize=(8,5))\n",
        "plt.scatter(y_test, y_pred, color='green', label='Predicted vs Actual')\n",
        "plt.plot([y_test.min(), y_test.max()], [y_test.min(), y_test.max()], 'r--', label='Perfect Prediction')\n",
        "plt.xlabel('Actual')\n",
        "plt.ylabel('Predicted')\n",
        "plt.title('Actual vs Predicted Values')\n",
        "plt.legend()\n",
        "plt.grid(True)\n",
        "plt.savefig(\"ActualVsPredicted.png\",dpi=300)\n",
        "plt.show()"
      ]
    },
    {
      "cell_type": "code",
      "execution_count": 58,
      "metadata": {
        "colab": {
          "base_uri": "https://localhost:8080/"
        },
        "id": "Z05Xh_9c8gD4",
        "outputId": "54e0c270-20be-434d-e6aa-616a6967abb3"
      },
      "outputs": [
        {
          "name": "stdout",
          "output_type": "stream",
          "text": [
            "Mean Squared Error: 2.3840028036635332\n",
            "Mean Absolute Error: 1.1981620718254873\n",
            "R2 Score: 0.9213419014788387\n"
          ]
        }
      ],
      "source": [
        "from sklearn.metrics import mean_absolute_error,mean_squared_error,r2_score\n",
        "mse = mean_squared_error(y_test,y_pred)\n",
        "mae =  mean_absolute_error(y_test,y_pred)\n",
        "r2 = r2_score(y_test,y_pred)\n",
        "print('Mean Squared Error:',mse)\n",
        "print('Mean Absolute Error:',mae)\n",
        "print('R2 Score:',r2)"
      ]
    },
    {
      "cell_type": "markdown",
      "metadata": {
        "id": "P42PsRdh4Igs"
      },
      "source": [
        "### **Lasso , Ridge , ElesticNet Models**"
      ]
    },
    {
      "cell_type": "code",
      "execution_count": 59,
      "metadata": {
        "id": "jkm9mAMHtWz5"
      },
      "outputs": [],
      "source": [
        "from sklearn.linear_model import Lasso,Ridge,ElasticNet\n",
        "from sklearn.metrics import mean_absolute_error,mean_squared_error,r2_score"
      ]
    },
    {
      "cell_type": "code",
      "execution_count": 60,
      "metadata": {
        "id": "sWVvgTo5F6tz"
      },
      "outputs": [],
      "source": [
        "models = {\n",
        "    'Linear Regression':LinearRegression(),\n",
        "    'Lasso':Lasso(),\n",
        "    'Ridge':Ridge(),\n",
        "    'Elastic Net' : ElasticNet()\n",
        "}"
      ]
    },
    {
      "cell_type": "code",
      "execution_count": 61,
      "metadata": {
        "colab": {
          "base_uri": "https://localhost:8080/"
        },
        "id": "pYJWNck3Hovm",
        "outputId": "45fda13d-61c7-4061-f3c9-453b92087181"
      },
      "outputs": [
        {
          "name": "stdout",
          "output_type": "stream",
          "text": [
            "Linear Regression\n",
            "Model performance for Training set\n",
            "- Mean Absolute Error: 1.5268\n",
            "- Mean Squared Error: 4.5500\n",
            "- R2 Score : 0.9250\n",
            "----------------------------------\n",
            "Model performance for Test set\n",
            "- Mean Abosolute Error: 1.1982\n",
            "- Mean Squared Error: 2.3840\n",
            "- R2 Score : 0.9213\n",
            "=================================== \n",
            "\n",
            "Lasso\n",
            "Model performance for Training set\n",
            "- Mean Absolute Error: 3.1980\n",
            "- Mean Squared Error: 16.9392\n",
            "- R2 Score : 0.7208\n",
            "----------------------------------\n",
            "Model performance for Test set\n",
            "- Mean Abosolute Error: 3.0259\n",
            "- Mean Squared Error: 13.9471\n",
            "- R2 Score : 0.5398\n",
            "=================================== \n",
            "\n",
            "Ridge\n",
            "Model performance for Training set\n",
            "- Mean Absolute Error: 1.5570\n",
            "- Mean Squared Error: 4.6570\n",
            "- R2 Score : 0.9232\n",
            "----------------------------------\n",
            "Model performance for Test set\n",
            "- Mean Abosolute Error: 1.2312\n",
            "- Mean Squared Error: 2.3311\n",
            "- R2 Score : 0.9231\n",
            "=================================== \n",
            "\n",
            "Elastic Net\n",
            "Model performance for Training set\n",
            "- Mean Absolute Error: 3.4493\n",
            "- Mean Squared Error: 19.4105\n",
            "- R2 Score : 0.6801\n",
            "----------------------------------\n",
            "Model performance for Test set\n",
            "- Mean Abosolute Error: 3.0832\n",
            "- Mean Squared Error: 14.8417\n",
            "- R2 Score : 0.5103\n",
            "=================================== \n",
            "\n"
          ]
        }
      ],
      "source": [
        "for i in range(len(list(models))):\n",
        "    model = list(models.values())[i]\n",
        "    model.fit(X_train, y_train) # Train model\n",
        "\n",
        "    # Make predictions\n",
        "    y_train_pred = model.predict(X_train)\n",
        "    y_test_pred = model.predict(X_test)\n",
        "\n",
        "    # Training set performance\n",
        "    model_train_mae = mean_absolute_error(y_train, y_train_pred)\n",
        "    model_train_mse = mean_squared_error(y_train, y_train_pred)\n",
        "    model_train_r2 = r2_score(y_train,y_train_pred)\n",
        "\n",
        "    model_test_mae = mean_absolute_error(y_test, y_test_pred)\n",
        "    model_test_mse = mean_squared_error(y_test, y_test_pred)\n",
        "    model_test_r2 = r2_score(y_test,y_test_pred)\n",
        "    print(list(models.keys())[i])\n",
        "\n",
        "    print('Model performance for Training set')\n",
        "    print(\"- Mean Absolute Error: {:.4f}\".format(model_train_mae))\n",
        "    print(\"- Mean Squared Error: {:.4f}\".format(model_train_mse))\n",
        "    print(\"- R2 Score : {:.4f}\".format(model_train_r2))\n",
        "\n",
        "    print('----------------------------------')\n",
        "\n",
        "    print('Model performance for Test set')\n",
        "    print('- Mean Abosolute Error: {:.4f}'.format(model_test_mae))\n",
        "    print(\"- Mean Squared Error: {:.4f}\".format(model_test_mse))\n",
        "    print('- R2 Score : {:.4f}'.format(model_test_r2))\n",
        "    print('='*35,'\\n')"
      ]
    },
    {
      "cell_type": "code",
      "execution_count": 69,
      "metadata": {},
      "outputs": [
        {
          "data": {
            "text/plain": [
              "['standardscalar.pkl']"
            ]
          },
          "execution_count": 69,
          "metadata": {},
          "output_type": "execute_result"
        }
      ],
      "source": [
        "import joblib\n",
        "\n",
        "for name, model in models.items():\n",
        "    model.fit(X_train_scaled, y_train)\n",
        "    joblib.dump(model, f\"{name.lower().replace(' ', '_')}.pkl\")\n",
        "\n",
        "joblib.dump(scaler,'standardscalar.pkl')"
      ]
    }
  ],
  "metadata": {
    "colab": {
      "provenance": []
    },
    "kernelspec": {
      "display_name": "Python 3",
      "name": "python3"
    },
    "language_info": {
      "codemirror_mode": {
        "name": "ipython",
        "version": 3
      },
      "file_extension": ".py",
      "mimetype": "text/x-python",
      "name": "python",
      "nbconvert_exporter": "python",
      "pygments_lexer": "ipython3",
      "version": "3.12.3"
    }
  },
  "nbformat": 4,
  "nbformat_minor": 0
}
